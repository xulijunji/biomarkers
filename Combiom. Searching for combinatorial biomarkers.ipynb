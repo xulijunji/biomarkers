{
 "cells": [
  {
   "cell_type": "markdown",
   "metadata": {},
   "source": [
    "# Combiom: searching for combinatorial biomarkers"
   ]
  },
  {
   "cell_type": "markdown",
   "metadata": {},
   "source": [
    "Algorithm to discover new *combinatorial biomarkers* using linear and kernel ridge regression, Theil-Sen estimator and machine learning."
   ]
  },
  {
   "cell_type": "markdown",
   "metadata": {},
   "source": [
    "## Importing packages"
   ]
  },
  {
   "cell_type": "code",
   "execution_count": 4,
   "metadata": {
    "collapsed": false
   },
   "outputs": [],
   "source": [
    "import itertools as it\n",
    "import sklearn.linear_model as sk_lm\n",
    "import sklearn.preprocessing as sk_pr\n",
    "import sklearn.kernel_ridge as sk_kr\n",
    "\n",
    "import pandas as pd\n",
    "import csv\n",
    "import numpy as np\n",
    "import re\n",
    "import string as st\n",
    "import numexpr as ne"
   ]
  },
  {
   "cell_type": "markdown",
   "metadata": {},
   "source": [
    "## Combiom Class"
   ]
  },
  {
   "cell_type": "code",
   "execution_count": 29,
   "metadata": {
    "collapsed": false
   },
   "outputs": [],
   "source": [
    "class Combiom:\n",
    "    \"\"\"Combiom class\"\"\"\n",
    "\n",
    "    def __init__(self, pars, obs, vols = None):\n",
    "\n",
    "        if not all(isinstance(a, (float, int)) \n",
    "                   for a in [pars, obs, vols]):\n",
    "            raise ValueError('Please define class arguments: they must be integers and coinсide with data shape')\n",
    "\n",
    "        self.parameters = int(pars)\n",
    "        self.observations = int(obs)\n",
    "        self.volunteers = int(vols)\n",
    "\n",
    "        self.iterators = {\n",
    "            'a': range(self.parameters),\n",
    "            '1/a': range(self.parameters),\n",
    "            'a/b': it.permutations(range(self.parameters), 2),\n",
    "            'a/b/c': iter((x, y, z) for x, y, z in it.permutations(range(self.parameters), 3) if z > y),\n",
    "            'a*b/c': it.combinations(range(self.parameters), 3),\n",
    "            'a*b/c/d': iter((a, b, c, d) for a, b, c, d in it.permutations(range(self.parameters), 4) if b > a and d > c)\n",
    "        }\n",
    "\n",
    "\n",
    "    def load_target_data(self, target_names, target_data):\n",
    "        '''def load_target_data(self, target_names, target_data)'''\n",
    "\n",
    "        self.target_names = target_names\n",
    "        self.target_data = target_data\n",
    "        self.target_num = len(target_names)\n",
    "\n",
    "\n",
    "    def load_marker_data(self, marker_names, marker_data):\n",
    "        '''def load_marker_data(self, marker_names, marker_data):'''\n",
    "\n",
    "        self.marker_names = marker_names\n",
    "        self.marker_data = marker_data\n",
    "\n",
    "    \n",
    "    def search(self, it_type='all'):\n",
    "\n",
    "        results = []\n",
    "        queue = self.iterators.keys() if it_type == 'all' else it_type\n",
    "\n",
    "        for i in queue:\n",
    "\n",
    "            r = self.__iterate_combinations(i)\n",
    "            results.append(r)\n",
    "\n",
    "        print('Search was successfully finished')\n",
    "        return results\n",
    "\n",
    "\n",
    "    def to_dataframe(self, data):\n",
    "        '''Data must be output of .search() method'''\n",
    "        \n",
    "        dfl = []\n",
    "\n",
    "        # Importing results and adding to a list\n",
    "        for i in data:\n",
    "            dfl.append(pd.DataFrame(i, columns=['Biomarker', 'Target marker',\n",
    "                                                'M1', 'M2', 'M3', 'M4',\n",
    "                                                'TS', 'R', 'KR', 'MID', 'TID', 'Type']))\n",
    "        \n",
    "        df = pd.concat(dfl)\n",
    "        df = df.rename(columns={'TS': 'Theil-Sen Score', 'R': 'Ridge Score', 'KR': 'Kernel Ridge Score',\n",
    "                                'M1': 'Marker 1', 'M2': 'Marker 2', 'M3': 'Marker 3', 'M4': 'Marker 4'})\n",
    "        \n",
    "        return df\n",
    "\n",
    "\n",
    "    def __iterate_combinations(self, iterator_type):\n",
    "\n",
    "        p_num = self.parameters\n",
    "        p_names = self.marker_names\n",
    "        p_data = self.marker_data\n",
    "        t_num = self.target_num\n",
    "        t_names = self.target_names\n",
    "        t_data = self.target_data\n",
    "\n",
    "        output = {'Biomarker': [], 'Target marker': [],\n",
    "                  'M1': [], 'M2': [], 'M3': [], 'M4': [],\n",
    "                  'TS': [], 'R': [], 'KR': [],\n",
    "                  'MID': [], 'TID': [], 'Type': []}\n",
    "\n",
    "        print('Search:', iterator_type, 'started')\n",
    "        \n",
    "        for a, t in it.product(self.iterators[iterator_type], range(t_num)):\n",
    "\n",
    "            list_ids = np.array([a]).ravel()\n",
    "            list_ops = list(re.sub(r\"\\w\", \"\", iterator_type))\n",
    "\n",
    "            # Naming a combinatorial marker\n",
    "            marker_name = self.__name(iterator_type, list_ids)\n",
    "\n",
    "            # Naming simple markers and padding list with np.nan to make it 4-element\n",
    "            simple_markers_names = np.pad(self.marker_names[[list_ids]].astype('object'),\n",
    "                                          (0, 4-len(list_ids)), mode='constant', constant_values=(0, np.nan))\n",
    "            \n",
    "            # Calculating marker\n",
    "            marker_value = self.__calc_marker(iterator_type, list_ids)\n",
    "\n",
    "            # Preprocessing data: transforming NaN values into neighbours-mean\n",
    "            # and normalizing data \n",
    "            marker_value = self.__transform_nan(marker_value)\n",
    "            marker_value_norm = self.__normalize(marker_value)\n",
    "\n",
    "            # Marker IDs joining into a string\n",
    "            mid = ', '.join(map(str, list_ids))\n",
    "\n",
    "            # Naming a target\n",
    "            target_name = t_names[t]\n",
    "            target_data = np.copy(t_data[t].reshape(-1, 1))\n",
    "            tid = str(t)\n",
    "\n",
    "            # Regression\n",
    "            ts_score, ridge_score, kr_score = self.__regression(marker_value_norm, target_data)\n",
    "\n",
    "            # Processing results\n",
    "            if any(z > 0.8 for z in (np.around(ts_score, 1), np.around(ridge_score, 1), np.around(kr_score, 1))):\n",
    "\n",
    "                for n, v in zip(['Biomarker', 'Target marker',\n",
    "                                 'M1', 'M2',\n",
    "                                 'M3', 'M4',\n",
    "                                 'TS', 'R', 'KR', 'MID', 'TID', 'Type'],\n",
    "                                [marker_name, target_name,\n",
    "                                 simple_markers_names[0], simple_markers_names[1],\n",
    "                                 simple_markers_names[2], simple_markers_names[3],\n",
    "                                 ts_score, ridge_score, kr_score, mid, tid, iterator_type]):\n",
    "\n",
    "                    output[n].append(v)\n",
    "\n",
    "        print('Search:', iterator_type, 'finished')\n",
    "\n",
    "        return output\n",
    "\n",
    "    def __regression(self, x, y, regressor_return=False):\n",
    "\n",
    "        # TheilSen Regression\n",
    "        ts_y = np.copy(y.ravel())\n",
    "        ts = sk_lm.TheilSenRegressor()\n",
    "        ts.fit(x, ts_y)\n",
    "\n",
    "        # r squared\n",
    "        ts_y_pred = ts.predict(x)\n",
    "        ts_y_mean = np.mean(ts_y)\n",
    "        ts_ssr = np.sum((ts_y_pred - ts_y_mean) ** 2)\n",
    "        ts_sst = np.sum((ts_y - ts_y_mean) ** 2)\n",
    "        #ts_score = np.absolute(ts.score(index_norm, ts_y))\n",
    "        ts_score = ts_ssr / ts_sst\n",
    "\n",
    "        # Ridge Regression\n",
    "        # Normalizating & reshaping\n",
    "        ridge = sk_lm.Ridge(alpha=0.01, normalize=False)\n",
    "        ridge.fit(x, y)\n",
    "        ridge_score = np.absolute(ridge.score(x, y))\n",
    "\n",
    "        # Kernel Ridge Regression\n",
    "        kernel_ridge = sk_kr.KernelRidge(kernel='rbf', alpha=0.0001)\n",
    "        kernel_ridge.fit(x, y)\n",
    "        kr_score = np.absolute(kernel_ridge.score(x, y))\n",
    "\n",
    "        if regressor_return:\n",
    "            return (ts, ridge, kernel_ridge)\n",
    "        else:\n",
    "            return (ts_score, ridge_score, kr_score)\n",
    "\n",
    "\n",
    "\n",
    "    def __transform_nan(self, x, strategy='mean'):\n",
    "\n",
    "        imp = sk_pr.Imputer(missing_values='NaN', strategy=strategy)\n",
    "        x = imp.fit_transform(x.reshape(-1, 1))\n",
    "\n",
    "        return x\n",
    "\n",
    "\n",
    "    def __normalize(self, x):\n",
    "\n",
    "        return sk_pr.normalize(x, axis=0)\n",
    "\n",
    "\n",
    "    def __name(self, marker_type, ids):\n",
    "\n",
    "        data = {}\n",
    "        for l, p in zip(st.ascii_letters[: ids.size], self.marker_names[ids]):\n",
    "            data[l] = p\n",
    "\n",
    "        rep = dict((re.escape(k), v) for k, v in data.items())\n",
    "        pattern = re.compile(\"|\".join(rep.keys()))\n",
    "        text = pattern.sub(lambda m: rep[re.escape(m.group(0))], marker_type)\n",
    "\n",
    "        return text\n",
    "\n",
    "\n",
    "    def __calc_marker(self, marker_type, ids):\n",
    "\n",
    "        data = {}\n",
    "\n",
    "        for l, p in zip(st.ascii_letters[: ids.size], self.marker_data[ids]):\n",
    "            data[l] = p\n",
    "\n",
    "        # Example: a*b/c (type), {a: ..., b: ..., c: ...} (data)\n",
    "        marker = ne.evaluate(marker_type, data)\n",
    "        \n",
    "        return marker\n",
    "\n",
    "\n",
    "    def retrain(self, marker_names, marker_type, target_name):\n",
    "\n",
    "        marker_ids = []\n",
    "\n",
    "        for n in markers_names:\n",
    "            marker_ids.append(np.where(self.marker_names == n)[0][0])\n",
    "\n",
    "        target_data = self.target_data[np.where(self.target_names == target_name)[0][0]]\n",
    "\n",
    "        d = {}\n",
    "        for i, (l, p) in enumerate(zip(st.ascii_letters[: len(marker_ids)], self.marker_data[[marker_ids]])):\n",
    "            d[l] = p\n",
    "\n",
    "        x = ne.evaluate(marker_type, d)\n",
    "\n",
    "        # Calculating marker\n",
    "        marker_value = self.__calc_marker(marker_type, marker_ids)\n",
    "\n",
    "        # Preprocessing data: transforming NaN values into neighbours-mean\n",
    "        # and normalizing data \n",
    "        marker_value = self.__transform_nan(marker_value)\n",
    "        marker_value_norm = self.__normalize(marker_value)\n",
    "\n",
    "        # regression\n",
    "        ts, ridge, kernel_ridge = self.__regression(index_norm, targetdata, regressor_return=True)\n",
    "        return (ts, ridge, kernel_ridge)\n"
   ]
  },
  {
   "cell_type": "markdown",
   "metadata": {},
   "source": [
    "## 1 Biochemical Dataset\n",
    "### 1.1 Importing and preprocessing"
   ]
  },
  {
   "cell_type": "code",
   "execution_count": 30,
   "metadata": {
    "collapsed": false
   },
   "outputs": [
    {
     "data": {
      "text/plain": [
       "(10, 11, 8)"
      ]
     },
     "execution_count": 30,
     "metadata": {},
     "output_type": "execute_result"
    }
   ],
   "source": [
    "# Parameter names\n",
    "bio_csv_names = csv.reader(open('./BiochemData/parameters-names.csv'), delimiter=';')\n",
    "bio_marker_names = np.array(list(bio_csv_names)).flatten()\n",
    "\n",
    "# Setting shape of data array\n",
    "bio_volunteers = 10\n",
    "bio_parameters = 11\n",
    "bio_points = 8\n",
    "\n",
    "# Initializing data array with zeros\n",
    "bio_data = np.zeros(shape=(bio_volunteers, bio_parameters, bio_points))\n",
    "\n",
    "# Timepoints at which each biochemical parameter was measured (in hours after experiment)\n",
    "# Null stands for \"before experiment\", 1 - in an hour after experiment, so on...\n",
    "bio_timepoints = np.array([0, 1, 1*24, 2*24, 3*24, 5*24, 7*24, 9*24])\n",
    "\n",
    "# Reading numeric data from csv-files. One file per participant\n",
    "# Each file has a shape of N x M\n",
    "#     where N is the number of parameters and M is the number of timepoints at which they were measured\n",
    "for i in np.arange(bio_volunteers):\n",
    "    bio_csv_file = csv.reader(open('./BiochemData/%d.csv' % i), delimiter=';')\n",
    "    bio_data[i, 0: bio_parameters + 1, 0: bio_points + 1] = np.array(list(bio_csv_file), np.float64)\n",
    "\n",
    "# Shape of data array\n",
    "np.shape(bio_data)"
   ]
  },
  {
   "cell_type": "markdown",
   "metadata": {},
   "source": [
    "### 1.2 Target markers"
   ]
  },
  {
   "cell_type": "code",
   "execution_count": 31,
   "metadata": {
    "collapsed": false
   },
   "outputs": [
    {
     "data": {
      "text/plain": [
       "(11, 10)"
      ]
     },
     "execution_count": 31,
     "metadata": {},
     "output_type": "execute_result"
    }
   ],
   "source": [
    "# Reading data for creatine kinase\n",
    "bio_csv_ck = csv.reader(open('./BiochemData/creatine-kinase.csv'), delimiter=';')\n",
    "bio_ckdata = np.array(list(bio_csv_ck), np.float64)\n",
    "\n",
    "# Reading data for aspartate transferase\n",
    "bio_csv_ast = csv.reader(open('./BiochemData/aspartate-transferase.csv'), delimiter=';')\n",
    "bio_astdata = np.array(list(bio_csv_ast), np.float64)\n",
    "\n",
    "# Reading data for myoglobin\n",
    "bio_csv_mg = csv.reader(open('./BiochemData/myoglobin.csv'), delimiter=';')\n",
    "bio_mgdata = np.array(list(bio_csv_mg), np.float64)\n",
    "bio_mgdata[bio_mgdata == 0] = np.nan\n",
    "\n",
    "imp = sk_pr.Imputer(missing_values='NaN', strategy='mean')\n",
    "bio_mgdata = imp.fit_transform(bio_mgdata)\n",
    "\n",
    "# Reading data for albumin\n",
    "bio_csv_alb = csv.reader(open('./BiochemData/albumin.csv'), delimiter=';')\n",
    "bio_albdata = np.array(list(bio_csv_alb), np.float64)\n",
    "bio_albdata[bio_albdata == 0] = np.nan\n",
    "\n",
    "# Processing creatinekinase and AST data\n",
    "# Making an array of maximum values and taking a LOG10 element-wisely\n",
    "bio_ckmax = np.log10([np.max(z) for z in bio_ckdata])\n",
    "bio_astmax = np.log10([np.max(z) for z in bio_astdata])\n",
    "bio_mgmax = np.log10([np.max(z) for z in bio_mgdata])\n",
    "\n",
    "bio_alb = np.log10(bio_albdata[np.arange(bio_albdata.shape[0]), [np.argmax(z) for z in bio_ckdata]])\n",
    "\n",
    "bio_ckmg = bio_ckmax / np.log10(bio_mgdata[np.arange(bio_mgdata.shape[0]), [np.argmax(z) for z in bio_ckdata]])\n",
    "bio_ckast = bio_ckmax / np.log10(bio_astdata[np.arange(bio_astdata.shape[0]), [np.argmax(z) for z in bio_ckdata]])\n",
    "bio_ckalb = bio_ckmax / bio_alb\n",
    "bio_mgalb = bio_mgmax / bio_alb\n",
    "\n",
    "# Target markers\n",
    "bio_target_names = np.array(['Creatinekinase', 'AST', 'Myoglobin',\n",
    "                             'Creatinekinase / AST', 'Creatinekinase / Myoglobin',\n",
    "                             'Creatinekinase / Albumin', 'Myoglobin / Albumin'])\n",
    "\n",
    "bio_target_data = np.vstack((bio_ckmax, bio_astmax, bio_mgmax, bio_ckmg, bio_ckast, bio_ckalb, bio_mgalb))\n",
    "\n",
    "# Making an array of 1-hour measures\n",
    "bio_marker_data = bio_data[:,:,1].T\n",
    "np.shape(bio_marker_data)"
   ]
  },
  {
   "cell_type": "markdown",
   "metadata": {},
   "source": [
    "### 1.3 Searching"
   ]
  },
  {
   "cell_type": "code",
   "execution_count": 32,
   "metadata": {
    "collapsed": false
   },
   "outputs": [
    {
     "name": "stdout",
     "output_type": "stream",
     "text": [
      "Search: a started\n",
      "Search: a finished\n",
      "Search: a*b/c/d started\n",
      "Search: a*b/c/d finished\n",
      "Search: a/b/c started\n",
      "Search: a/b/c finished\n",
      "Search: a*b/c started\n",
      "Search: a*b/c finished\n",
      "Search: a/b started\n",
      "Search: a/b finished\n",
      "Search: 1/a started\n",
      "Search: 1/a finished\n",
      "Search was successfully finished\n"
     ]
    }
   ],
   "source": [
    "# Initialize class with 11 parameters, 8 observations and 10 participants\n",
    "cmb = Combiom(11, 8, 10)\n",
    "\n",
    "cmb.load_marker_data(bio_marker_names, bio_marker_data)\n",
    "cmb.load_target_data(bio_target_names, bio_target_data)\n",
    "\n",
    "bio_results = cmb.search('all')"
   ]
  },
  {
   "cell_type": "markdown",
   "metadata": {},
   "source": [
    "### 1.4 Results. Exporting to Pandas and Pickle"
   ]
  },
  {
   "cell_type": "code",
   "execution_count": 33,
   "metadata": {
    "collapsed": false
   },
   "outputs": [],
   "source": [
    "# Creating DataFrame\n",
    "bio_df = cmb.to_dataframe(bio_results)\n",
    "\n",
    "# Export to Pickle file\n",
    "bio_df.to_pickle('./biochem_db.pickle')"
   ]
  },
  {
   "cell_type": "markdown",
   "metadata": {
    "collapsed": true
   },
   "source": [
    "### 1.5 Exporting to Excel"
   ]
  },
  {
   "cell_type": "markdown",
   "metadata": {},
   "source": [
    "#### Top combinatorial biochemical markers which correlate with each target marker"
   ]
  },
  {
   "cell_type": "code",
   "execution_count": 39,
   "metadata": {
    "collapsed": false
   },
   "outputs": [
    {
     "data": {
      "text/html": [
       "<div>\n",
       "<table border=\"1\" class=\"dataframe\">\n",
       "  <thead>\n",
       "    <tr style=\"text-align: right;\">\n",
       "      <th></th>\n",
       "      <th>Biomarker</th>\n",
       "      <th>Theil-Sen Score</th>\n",
       "      <th>Ridge Score</th>\n",
       "      <th>Kernel Ridge Score</th>\n",
       "    </tr>\n",
       "    <tr>\n",
       "      <th>Target marker</th>\n",
       "      <th></th>\n",
       "      <th></th>\n",
       "      <th></th>\n",
       "      <th></th>\n",
       "    </tr>\n",
       "  </thead>\n",
       "  <tbody>\n",
       "    <tr>\n",
       "      <th>Creatinekinase / AST</th>\n",
       "      <td>Uric acid/TAG/MCFA</td>\n",
       "      <td>1.387498</td>\n",
       "      <td>0.803509</td>\n",
       "      <td>0.945346</td>\n",
       "    </tr>\n",
       "    <tr>\n",
       "      <th>Creatinekinase</th>\n",
       "      <td>Uric acid/Urea/TAG</td>\n",
       "      <td>8.745679</td>\n",
       "      <td>0.830929</td>\n",
       "      <td>0.923575</td>\n",
       "    </tr>\n",
       "    <tr>\n",
       "      <th>Creatinekinase / Albumin</th>\n",
       "      <td>Uric acid/Urea/TAG</td>\n",
       "      <td>7.764427</td>\n",
       "      <td>0.833813</td>\n",
       "      <td>0.917624</td>\n",
       "    </tr>\n",
       "    <tr>\n",
       "      <th>AST</th>\n",
       "      <td>Uric acid*MCFA/Urea/TAG</td>\n",
       "      <td>7.336094</td>\n",
       "      <td>0.846807</td>\n",
       "      <td>0.903691</td>\n",
       "    </tr>\n",
       "    <tr>\n",
       "      <th>Myoglobin</th>\n",
       "      <td>Uric acid/Urea/TAG</td>\n",
       "      <td>6.034839</td>\n",
       "      <td>0.812799</td>\n",
       "      <td>0.872165</td>\n",
       "    </tr>\n",
       "    <tr>\n",
       "      <th>Myoglobin / Albumin</th>\n",
       "      <td>Uric acid/Chloride</td>\n",
       "      <td>6.013822</td>\n",
       "      <td>0.810361</td>\n",
       "      <td>0.869824</td>\n",
       "    </tr>\n",
       "    <tr>\n",
       "      <th>Creatinekinase / Myoglobin</th>\n",
       "      <td>Uric acid*MCFA/Urea/Lactate</td>\n",
       "      <td>7.029963</td>\n",
       "      <td>0.319701</td>\n",
       "      <td>0.785268</td>\n",
       "    </tr>\n",
       "  </tbody>\n",
       "</table>\n",
       "</div>"
      ],
      "text/plain": [
       "                                              Biomarker  Theil-Sen Score  \\\n",
       "Target marker                                                              \n",
       "Creatinekinase / AST                 Uric acid/TAG/MCFA         1.387498   \n",
       "Creatinekinase                       Uric acid/Urea/TAG         8.745679   \n",
       "Creatinekinase / Albumin             Uric acid/Urea/TAG         7.764427   \n",
       "AST                             Uric acid*MCFA/Urea/TAG         7.336094   \n",
       "Myoglobin                            Uric acid/Urea/TAG         6.034839   \n",
       "Myoglobin / Albumin                  Uric acid/Chloride         6.013822   \n",
       "Creatinekinase / Myoglobin  Uric acid*MCFA/Urea/Lactate         7.029963   \n",
       "\n",
       "                            Ridge Score  Kernel Ridge Score  \n",
       "Target marker                                                \n",
       "Creatinekinase / AST           0.803509            0.945346  \n",
       "Creatinekinase                 0.830929            0.923575  \n",
       "Creatinekinase / Albumin       0.833813            0.917624  \n",
       "AST                            0.846807            0.903691  \n",
       "Myoglobin                      0.812799            0.872165  \n",
       "Myoglobin / Albumin            0.810361            0.869824  \n",
       "Creatinekinase / Myoglobin     0.319701            0.785268  "
      ]
     },
     "execution_count": 39,
     "metadata": {},
     "output_type": "execute_result"
    }
   ],
   "source": [
    "biochem_max_group = bio_df.groupby(('Target marker'))\\\n",
    "                          [['Biomarker', 'Theil-Sen Score', 'Ridge Score', 'Kernel Ridge Score']]\\\n",
    "                          .max().sort_values(by=['Kernel Ridge Score'], ascending=False)\n",
    "biochem_max_group"
   ]
  },
  {
   "cell_type": "code",
   "execution_count": 51,
   "metadata": {
    "collapsed": true
   },
   "outputs": [],
   "source": [
    "# Initialize Pandas Excel writer with XlsxWriter\n",
    "writer = pd.ExcelWriter('./combinatorial_biochemical_biomarkers.xlsx', engine='xlsxwriter')\n",
    "\n",
    "# Convert Dataframe to Excel object\n",
    "biochem_max_group.to_excel(writer, sheet_name='Target Max')"
   ]
  },
  {
   "cell_type": "markdown",
   "metadata": {},
   "source": [
    "#### Combinatorial biomarkers sorted by the number of target markers they correlate with."
   ]
  },
  {
   "cell_type": "code",
   "execution_count": 52,
   "metadata": {
    "collapsed": false
   },
   "outputs": [
    {
     "data": {
      "text/html": [
       "<div>\n",
       "<table border=\"1\" class=\"dataframe\">\n",
       "  <thead>\n",
       "    <tr style=\"text-align: right;\">\n",
       "      <th></th>\n",
       "      <th>Biomarker</th>\n",
       "      <th>Target marker</th>\n",
       "      <th>Kernel Ridge Score</th>\n",
       "      <th>Ridge Score</th>\n",
       "      <th>Theil-Sen Score</th>\n",
       "    </tr>\n",
       "  </thead>\n",
       "  <tbody>\n",
       "    <tr>\n",
       "      <th>0</th>\n",
       "      <td>Urea*Phosphate/Lactate/Bilirubin</td>\n",
       "      <td>6</td>\n",
       "      <td>0.792913</td>\n",
       "      <td>0.259419</td>\n",
       "      <td>1.669345</td>\n",
       "    </tr>\n",
       "    <tr>\n",
       "      <th>1</th>\n",
       "      <td>Creatinine*Urea/Lactate/Bilirubin</td>\n",
       "      <td>6</td>\n",
       "      <td>0.678736</td>\n",
       "      <td>0.246219</td>\n",
       "      <td>1.534484</td>\n",
       "    </tr>\n",
       "    <tr>\n",
       "      <th>2</th>\n",
       "      <td>Cholesterol*Urea/Lactate/Bilirubin</td>\n",
       "      <td>6</td>\n",
       "      <td>0.670188</td>\n",
       "      <td>0.230477</td>\n",
       "      <td>1.219462</td>\n",
       "    </tr>\n",
       "    <tr>\n",
       "      <th>3</th>\n",
       "      <td>Urea*Glucose/Uric acid/MCFA</td>\n",
       "      <td>5</td>\n",
       "      <td>0.862664</td>\n",
       "      <td>0.653679</td>\n",
       "      <td>0.918536</td>\n",
       "    </tr>\n",
       "    <tr>\n",
       "      <th>4</th>\n",
       "      <td>Creatinine*Phosphate/Lactate/Uric acid</td>\n",
       "      <td>5</td>\n",
       "      <td>0.810566</td>\n",
       "      <td>0.321485</td>\n",
       "      <td>1.897554</td>\n",
       "    </tr>\n",
       "    <tr>\n",
       "      <th>5</th>\n",
       "      <td>Uric acid*MCFA/Urea/Glucose</td>\n",
       "      <td>5</td>\n",
       "      <td>0.810290</td>\n",
       "      <td>0.562593</td>\n",
       "      <td>1.588352</td>\n",
       "    </tr>\n",
       "    <tr>\n",
       "      <th>6</th>\n",
       "      <td>Urea*Phosphate/Lactate/MCFA</td>\n",
       "      <td>5</td>\n",
       "      <td>0.807465</td>\n",
       "      <td>0.381844</td>\n",
       "      <td>1.436135</td>\n",
       "    </tr>\n",
       "    <tr>\n",
       "      <th>7</th>\n",
       "      <td>Phosphate/Lactate/Uric acid</td>\n",
       "      <td>5</td>\n",
       "      <td>0.799591</td>\n",
       "      <td>0.346011</td>\n",
       "      <td>1.765379</td>\n",
       "    </tr>\n",
       "    <tr>\n",
       "      <th>8</th>\n",
       "      <td>Phosphate*Chloride/Lactate/Uric acid</td>\n",
       "      <td>5</td>\n",
       "      <td>0.795285</td>\n",
       "      <td>0.356422</td>\n",
       "      <td>1.635243</td>\n",
       "    </tr>\n",
       "    <tr>\n",
       "      <th>9</th>\n",
       "      <td>Creatinine*Urea/Lactate/MCFA</td>\n",
       "      <td>5</td>\n",
       "      <td>0.791425</td>\n",
       "      <td>0.350083</td>\n",
       "      <td>1.057615</td>\n",
       "    </tr>\n",
       "  </tbody>\n",
       "</table>\n",
       "</div>"
      ],
      "text/plain": [
       "                                Biomarker  Target marker  Kernel Ridge Score  \\\n",
       "0        Urea*Phosphate/Lactate/Bilirubin              6            0.792913   \n",
       "1       Creatinine*Urea/Lactate/Bilirubin              6            0.678736   \n",
       "2      Cholesterol*Urea/Lactate/Bilirubin              6            0.670188   \n",
       "3             Urea*Glucose/Uric acid/MCFA              5            0.862664   \n",
       "4  Creatinine*Phosphate/Lactate/Uric acid              5            0.810566   \n",
       "5             Uric acid*MCFA/Urea/Glucose              5            0.810290   \n",
       "6             Urea*Phosphate/Lactate/MCFA              5            0.807465   \n",
       "7             Phosphate/Lactate/Uric acid              5            0.799591   \n",
       "8    Phosphate*Chloride/Lactate/Uric acid              5            0.795285   \n",
       "9            Creatinine*Urea/Lactate/MCFA              5            0.791425   \n",
       "\n",
       "   Ridge Score  Theil-Sen Score  \n",
       "0     0.259419         1.669345  \n",
       "1     0.246219         1.534484  \n",
       "2     0.230477         1.219462  \n",
       "3     0.653679         0.918536  \n",
       "4     0.321485         1.897554  \n",
       "5     0.562593         1.588352  \n",
       "6     0.381844         1.436135  \n",
       "7     0.346011         1.765379  \n",
       "8     0.356422         1.635243  \n",
       "9     0.350083         1.057615  "
      ]
     },
     "execution_count": 52,
     "metadata": {},
     "output_type": "execute_result"
    }
   ],
   "source": [
    "biochem_max_top = bio_df.groupby(('Biomarker'))\\\n",
    "                        .agg({'Target marker': 'count', 'Kernel Ridge Score': 'mean', 'Theil-Sen Score': 'mean', 'Ridge Score': 'mean'})\\\n",
    "                        .sort_values(['Target marker', 'Kernel Ridge Score'], ascending=False)\\\n",
    "                        .head(10)\\\n",
    "                        [['Target marker', 'Kernel Ridge Score', 'Ridge Score', 'Theil-Sen Score']]\\\n",
    "                        .reset_index()\n",
    "biochem_max_top"
   ]
  },
  {
   "cell_type": "code",
   "execution_count": 53,
   "metadata": {
    "collapsed": true
   },
   "outputs": [],
   "source": [
    "# Convert the dataframe to an XlsxWriter Excel object.\n",
    "biochem_max_top.to_excel(writer, sheet_name='Overall Max')"
   ]
  },
  {
   "cell_type": "markdown",
   "metadata": {},
   "source": [
    "#### Combinatorial biomarkers sorted by the number of target markers they correlate with."
   ]
  },
  {
   "cell_type": "code",
   "execution_count": 54,
   "metadata": {
    "collapsed": false
   },
   "outputs": [
    {
     "data": {
      "text/html": [
       "<div>\n",
       "<table border=\"1\" class=\"dataframe\">\n",
       "  <thead>\n",
       "    <tr style=\"text-align: right;\">\n",
       "      <th></th>\n",
       "      <th>Biomarker</th>\n",
       "      <th>Theil-Sen Score</th>\n",
       "      <th>Ridge Score</th>\n",
       "      <th>Kernel Ridge Score</th>\n",
       "    </tr>\n",
       "    <tr>\n",
       "      <th>Type</th>\n",
       "      <th></th>\n",
       "      <th></th>\n",
       "      <th></th>\n",
       "      <th></th>\n",
       "    </tr>\n",
       "  </thead>\n",
       "  <tbody>\n",
       "    <tr>\n",
       "      <th>a/b/c</th>\n",
       "      <td>Uric acid/Urea/TAG</td>\n",
       "      <td>3.046988</td>\n",
       "      <td>0.836749</td>\n",
       "      <td>0.945346</td>\n",
       "    </tr>\n",
       "    <tr>\n",
       "      <th>a*b/c/d</th>\n",
       "      <td>Uric acid*MCFA/Urea/TAG</td>\n",
       "      <td>8.745679</td>\n",
       "      <td>0.846807</td>\n",
       "      <td>0.934558</td>\n",
       "    </tr>\n",
       "    <tr>\n",
       "      <th>a/b</th>\n",
       "      <td>Uric acid/Phosphate</td>\n",
       "      <td>1.810922</td>\n",
       "      <td>0.771610</td>\n",
       "      <td>0.879388</td>\n",
       "    </tr>\n",
       "    <tr>\n",
       "      <th>a*b/c</th>\n",
       "      <td>Urea*Phosphate/MCFA</td>\n",
       "      <td>6.636919</td>\n",
       "      <td>0.753447</td>\n",
       "      <td>0.835570</td>\n",
       "    </tr>\n",
       "    <tr>\n",
       "      <th>a</th>\n",
       "      <td>Uric acid</td>\n",
       "      <td>1.259103</td>\n",
       "      <td>0.517416</td>\n",
       "      <td>0.683235</td>\n",
       "    </tr>\n",
       "    <tr>\n",
       "      <th>1/a</th>\n",
       "      <td>1/Uric acid</td>\n",
       "      <td>1.868534</td>\n",
       "      <td>0.402234</td>\n",
       "      <td>0.669841</td>\n",
       "    </tr>\n",
       "  </tbody>\n",
       "</table>\n",
       "</div>"
      ],
      "text/plain": [
       "                       Biomarker  Theil-Sen Score  Ridge Score  \\\n",
       "Type                                                             \n",
       "a/b/c         Uric acid/Urea/TAG         3.046988     0.836749   \n",
       "a*b/c/d  Uric acid*MCFA/Urea/TAG         8.745679     0.846807   \n",
       "a/b          Uric acid/Phosphate         1.810922     0.771610   \n",
       "a*b/c        Urea*Phosphate/MCFA         6.636919     0.753447   \n",
       "a                      Uric acid         1.259103     0.517416   \n",
       "1/a                  1/Uric acid         1.868534     0.402234   \n",
       "\n",
       "         Kernel Ridge Score  \n",
       "Type                         \n",
       "a/b/c              0.945346  \n",
       "a*b/c/d            0.934558  \n",
       "a/b                0.879388  \n",
       "a*b/c              0.835570  \n",
       "a                  0.683235  \n",
       "1/a                0.669841  "
      ]
     },
     "execution_count": 54,
     "metadata": {},
     "output_type": "execute_result"
    }
   ],
   "source": [
    "biochem_max_type = bio_df.groupby('Type')[['Biomarker', 'Theil-Sen Score', 'Ridge Score', 'Kernel Ridge Score']]\\\n",
    "                          .max().sort_values(by=['Kernel Ridge Score'], ascending=False)\n",
    "                         \n",
    "biochem_max_type"
   ]
  },
  {
   "cell_type": "code",
   "execution_count": 55,
   "metadata": {
    "collapsed": true
   },
   "outputs": [],
   "source": [
    "# Convert the dataframe to an XlsxWriter Excel object.\n",
    "biochem_max_type.to_excel(writer, sheet_name='Type Max')\n",
    "\n",
    "# Close the Pandas Excel writer and output the Excel file.\n",
    "writer.save()"
   ]
  },
  {
   "cell_type": "markdown",
   "metadata": {},
   "source": [
    "## 2 Physiological Dataset\n",
    "### 2.1 Importing and preprocessing"
   ]
  },
  {
   "cell_type": "code",
   "execution_count": 57,
   "metadata": {
    "collapsed": false
   },
   "outputs": [
    {
     "data": {
      "text/plain": [
       "(15, 10)"
      ]
     },
     "execution_count": 57,
     "metadata": {},
     "output_type": "execute_result"
    }
   ],
   "source": [
    "# Parameter names\n",
    "phys_csv_names = csv.reader(open('./PhysData/parameters-names.csv'), delimiter=';')\n",
    "phys_marker_names = np.array(list(phys_csv_names)).ravel()\n",
    "\n",
    "# Setting shape of data array\n",
    "phys_volunteers = 10\n",
    "phys_parameters = 15\n",
    "phys_points = 8\n",
    "\n",
    "# Initializing data array with zeros\n",
    "phys_data = np.zeros(shape=(phys_volunteers, phys_parameters, phys_points))\n",
    "\n",
    "# Timepoints at which each biochemical parameter was measured (in hours after experiment)\n",
    "# 0 stands for \"before experiment\", 0.05 - shortly after experiment, 1 - in an hour after experiment, so on...\n",
    "phys_timepoints = np.array([0, 0.05, 1, 1*24, 2*24, 3*24, 5*24, 7*24, 9*24])\n",
    "\n",
    "# Reading numeric data from csv-files\n",
    "# Each file has a shape of N x M\n",
    "#     where N is the number of parameters and M is the number of timepoints at which they were measured\n",
    "for i in np.arange(phys_volunteers):\n",
    "    phys_csv_file = csv.reader(open('./PhysData/%d.csv' % i), delimiter=';')\n",
    "    phys_data[i, 0: phys_parameters + 1, 0: phys_points + 1] = np.array(list(phys_csv_file), np.float64)\n",
    "\n",
    "# Mask zeros with NaN\n",
    "phys_data[phys_data == 0] = np.nan\n",
    "\n",
    "# Making an array of 1-hour measures\n",
    "phys_marker_data = phys_data[:,:,1].T\n",
    "\n",
    "# Shape\n",
    "np.shape(phys_marker_data)"
   ]
  },
  {
   "cell_type": "markdown",
   "metadata": {},
   "source": [
    "### 2.2 Search"
   ]
  },
  {
   "cell_type": "code",
   "execution_count": 58,
   "metadata": {
    "collapsed": false
   },
   "outputs": [
    {
     "name": "stdout",
     "output_type": "stream",
     "text": [
      "Search: a started\n",
      "Search: a finished\n",
      "Search: a*b/c/d started\n",
      "Search: a*b/c/d finished\n",
      "Search: a/b/c started\n",
      "Search: a/b/c finished\n",
      "Search: a*b/c started\n",
      "Search: a*b/c finished\n",
      "Search: a/b started\n",
      "Search: a/b finished\n",
      "Search: 1/a started\n",
      "Search: 1/a finished\n",
      "Search was successfully finished\n"
     ]
    }
   ],
   "source": [
    "# Initialize class with 15 parameters, 8 observations and 10 participants\n",
    "cmbp = Combiom(15, 8, 10)\n",
    "\n",
    "cmbp.load_marker_data(phys_marker_names, phys_marker_data)\n",
    "cmbp.load_target_data(bio_target_names, bio_target_data)\n",
    "\n",
    "phys_results = cmbp.search()"
   ]
  },
  {
   "cell_type": "markdown",
   "metadata": {},
   "source": [
    "### 2.3 Results. Export to DataFrame and Pickle"
   ]
  },
  {
   "cell_type": "code",
   "execution_count": 60,
   "metadata": {
    "collapsed": true
   },
   "outputs": [],
   "source": [
    "# Creating DataFrame\n",
    "phys_df = cmbp.to_dataframe(phys_results)\n",
    "\n",
    "# Export to Pickle file\n",
    "phys_df.to_pickle('./phys_db.pickle')"
   ]
  },
  {
   "cell_type": "markdown",
   "metadata": {},
   "source": [
    "### 2.4 Exporting to Excel"
   ]
  },
  {
   "cell_type": "markdown",
   "metadata": {},
   "source": [
    "#### Top combinatorial physiological markers which correlate with each target marker"
   ]
  },
  {
   "cell_type": "code",
   "execution_count": 63,
   "metadata": {
    "collapsed": false
   },
   "outputs": [
    {
     "data": {
      "text/html": [
       "<div>\n",
       "<table border=\"1\" class=\"dataframe\">\n",
       "  <thead>\n",
       "    <tr style=\"text-align: right;\">\n",
       "      <th></th>\n",
       "      <th>Biomarker</th>\n",
       "      <th>Theil-Sen Score</th>\n",
       "      <th>Ridge Score</th>\n",
       "      <th>Kernel Ridge Score</th>\n",
       "    </tr>\n",
       "    <tr>\n",
       "      <th>Target marker</th>\n",
       "      <th></th>\n",
       "      <th></th>\n",
       "      <th></th>\n",
       "      <th></th>\n",
       "    </tr>\n",
       "  </thead>\n",
       "  <tbody>\n",
       "    <tr>\n",
       "      <th>Creatinekinase / AST</th>\n",
       "      <td>SYS Blood Pres 1/H-r Length/Contrac Tone</td>\n",
       "      <td>3.656179</td>\n",
       "      <td>0.826668</td>\n",
       "      <td>0.958987</td>\n",
       "    </tr>\n",
       "    <tr>\n",
       "      <th>Creatinekinase / Myoglobin</th>\n",
       "      <td>SYS Blood Pres 2/H-r Length/Isometric Strength</td>\n",
       "      <td>9.272325</td>\n",
       "      <td>0.532325</td>\n",
       "      <td>0.909044</td>\n",
       "    </tr>\n",
       "    <tr>\n",
       "      <th>Creatinekinase / Albumin</th>\n",
       "      <td>SYS Blood Pres 2/Max Amp EMG/Isometric Strength</td>\n",
       "      <td>6.844295</td>\n",
       "      <td>0.629212</td>\n",
       "      <td>0.861057</td>\n",
       "    </tr>\n",
       "    <tr>\n",
       "      <th>Creatinekinase</th>\n",
       "      <td>SYS Blood Pres 2/Max Amp EMG/Isometric Strength</td>\n",
       "      <td>6.265478</td>\n",
       "      <td>0.611061</td>\n",
       "      <td>0.860031</td>\n",
       "    </tr>\n",
       "    <tr>\n",
       "      <th>AST</th>\n",
       "      <td>SYS Blood Pres 2/Isometric Strength/SYS Blood ...</td>\n",
       "      <td>5.638955</td>\n",
       "      <td>0.615336</td>\n",
       "      <td>0.792680</td>\n",
       "    </tr>\n",
       "    <tr>\n",
       "      <th>Myoglobin / Albumin</th>\n",
       "      <td>SYS Blood Pres 2/Max Amp EMG</td>\n",
       "      <td>8.197722</td>\n",
       "      <td>0.620315</td>\n",
       "      <td>0.786178</td>\n",
       "    </tr>\n",
       "    <tr>\n",
       "      <th>Myoglobin</th>\n",
       "      <td>SYS Blood Pres 2/Max Amp EMG</td>\n",
       "      <td>8.183847</td>\n",
       "      <td>0.613169</td>\n",
       "      <td>0.771977</td>\n",
       "    </tr>\n",
       "  </tbody>\n",
       "</table>\n",
       "</div>"
      ],
      "text/plain": [
       "                                                                    Biomarker  \\\n",
       "Target marker                                                                   \n",
       "Creatinekinase / AST                 SYS Blood Pres 1/H-r Length/Contrac Tone   \n",
       "Creatinekinase / Myoglobin     SYS Blood Pres 2/H-r Length/Isometric Strength   \n",
       "Creatinekinase / Albumin      SYS Blood Pres 2/Max Amp EMG/Isometric Strength   \n",
       "Creatinekinase                SYS Blood Pres 2/Max Amp EMG/Isometric Strength   \n",
       "AST                         SYS Blood Pres 2/Isometric Strength/SYS Blood ...   \n",
       "Myoglobin / Albumin                              SYS Blood Pres 2/Max Amp EMG   \n",
       "Myoglobin                                        SYS Blood Pres 2/Max Amp EMG   \n",
       "\n",
       "                            Theil-Sen Score  Ridge Score  Kernel Ridge Score  \n",
       "Target marker                                                                 \n",
       "Creatinekinase / AST               3.656179     0.826668            0.958987  \n",
       "Creatinekinase / Myoglobin         9.272325     0.532325            0.909044  \n",
       "Creatinekinase / Albumin           6.844295     0.629212            0.861057  \n",
       "Creatinekinase                     6.265478     0.611061            0.860031  \n",
       "AST                                5.638955     0.615336            0.792680  \n",
       "Myoglobin / Albumin                8.197722     0.620315            0.786178  \n",
       "Myoglobin                          8.183847     0.613169            0.771977  "
      ]
     },
     "execution_count": 63,
     "metadata": {},
     "output_type": "execute_result"
    }
   ],
   "source": [
    "phys_max_group = phys_df.groupby(('Target marker'))\\\n",
    "                       [['Biomarker', 'Theil-Sen Score', 'Ridge Score', 'Kernel Ridge Score']]\\\n",
    "                       .max().sort_values(by=['Kernel Ridge Score'], ascending=False)\n",
    "phys_max_group"
   ]
  },
  {
   "cell_type": "code",
   "execution_count": 64,
   "metadata": {
    "collapsed": true
   },
   "outputs": [],
   "source": [
    "# Initialize Pandas Excel writer with XlsxWriter\n",
    "writer = pd.ExcelWriter('./combinatorial_physiological_biomarkers.xlsx', engine='xlsxwriter')\n",
    "\n",
    "# Convert Dataframe to Excel object\n",
    "phys_max_group.to_excel(writer, sheet_name='Target Max')"
   ]
  },
  {
   "cell_type": "markdown",
   "metadata": {},
   "source": [
    "#### Combinatorial biomarkers sorted by the number of target markers they correlate with."
   ]
  },
  {
   "cell_type": "code",
   "execution_count": 65,
   "metadata": {
    "collapsed": false
   },
   "outputs": [
    {
     "data": {
      "text/html": [
       "<div>\n",
       "<table border=\"1\" class=\"dataframe\">\n",
       "  <thead>\n",
       "    <tr style=\"text-align: right;\">\n",
       "      <th></th>\n",
       "      <th>Biomarker</th>\n",
       "      <th>Target marker</th>\n",
       "      <th>Kernel Ridge Score</th>\n",
       "      <th>Ridge Score</th>\n",
       "      <th>Theil-Sen Score</th>\n",
       "    </tr>\n",
       "  </thead>\n",
       "  <tbody>\n",
       "    <tr>\n",
       "      <th>0</th>\n",
       "      <td>H-r Length*Contrac Tone/Max Amp EMG/Mean Amp EMG</td>\n",
       "      <td>6</td>\n",
       "      <td>0.484344</td>\n",
       "      <td>0.199650</td>\n",
       "      <td>2.468996</td>\n",
       "    </tr>\n",
       "    <tr>\n",
       "      <th>1</th>\n",
       "      <td>H-r Length*Contrac Tone/Max Amp EMG/L-Thigh Circ</td>\n",
       "      <td>6</td>\n",
       "      <td>0.467022</td>\n",
       "      <td>0.218022</td>\n",
       "      <td>1.281292</td>\n",
       "    </tr>\n",
       "    <tr>\n",
       "      <th>2</th>\n",
       "      <td>R-Thigh Circ*DIA Blood Pres 2/Contrac Tone/SYS...</td>\n",
       "      <td>6</td>\n",
       "      <td>0.464185</td>\n",
       "      <td>0.369479</td>\n",
       "      <td>0.989356</td>\n",
       "    </tr>\n",
       "    <tr>\n",
       "      <th>3</th>\n",
       "      <td>H-r Length/Max Amp EMG</td>\n",
       "      <td>6</td>\n",
       "      <td>0.259930</td>\n",
       "      <td>0.163553</td>\n",
       "      <td>1.041286</td>\n",
       "    </tr>\n",
       "    <tr>\n",
       "      <th>4</th>\n",
       "      <td>H-r Length/Max Amp EMG/R-Thigh Circ</td>\n",
       "      <td>6</td>\n",
       "      <td>0.243247</td>\n",
       "      <td>0.162328</td>\n",
       "      <td>2.026401</td>\n",
       "    </tr>\n",
       "    <tr>\n",
       "      <th>5</th>\n",
       "      <td>Contrac Tone/Isometric Strength/DIA Blood Pres 1</td>\n",
       "      <td>5</td>\n",
       "      <td>0.812543</td>\n",
       "      <td>0.260911</td>\n",
       "      <td>4.224298</td>\n",
       "    </tr>\n",
       "    <tr>\n",
       "      <th>6</th>\n",
       "      <td>R-Thigh Circ*Contrac Tone/Isometric Strength/D...</td>\n",
       "      <td>5</td>\n",
       "      <td>0.752616</td>\n",
       "      <td>0.306047</td>\n",
       "      <td>2.361174</td>\n",
       "    </tr>\n",
       "    <tr>\n",
       "      <th>7</th>\n",
       "      <td>Contrac Tone/L-Thigh Circ/Isometric Strength</td>\n",
       "      <td>5</td>\n",
       "      <td>0.723886</td>\n",
       "      <td>0.266356</td>\n",
       "      <td>2.410329</td>\n",
       "    </tr>\n",
       "    <tr>\n",
       "      <th>8</th>\n",
       "      <td>Contrac Tone/Max Amp EMG/Isometric Strength</td>\n",
       "      <td>5</td>\n",
       "      <td>0.699804</td>\n",
       "      <td>0.282086</td>\n",
       "      <td>1.985587</td>\n",
       "    </tr>\n",
       "    <tr>\n",
       "      <th>9</th>\n",
       "      <td>H-r Length*Contrac Tone/Mean Amp EMG/DIA Blood...</td>\n",
       "      <td>5</td>\n",
       "      <td>0.661110</td>\n",
       "      <td>0.184189</td>\n",
       "      <td>5.337367</td>\n",
       "    </tr>\n",
       "  </tbody>\n",
       "</table>\n",
       "</div>"
      ],
      "text/plain": [
       "                                           Biomarker  Target marker  \\\n",
       "0   H-r Length*Contrac Tone/Max Amp EMG/Mean Amp EMG              6   \n",
       "1   H-r Length*Contrac Tone/Max Amp EMG/L-Thigh Circ              6   \n",
       "2  R-Thigh Circ*DIA Blood Pres 2/Contrac Tone/SYS...              6   \n",
       "3                             H-r Length/Max Amp EMG              6   \n",
       "4                H-r Length/Max Amp EMG/R-Thigh Circ              6   \n",
       "5   Contrac Tone/Isometric Strength/DIA Blood Pres 1              5   \n",
       "6  R-Thigh Circ*Contrac Tone/Isometric Strength/D...              5   \n",
       "7       Contrac Tone/L-Thigh Circ/Isometric Strength              5   \n",
       "8        Contrac Tone/Max Amp EMG/Isometric Strength              5   \n",
       "9  H-r Length*Contrac Tone/Mean Amp EMG/DIA Blood...              5   \n",
       "\n",
       "   Kernel Ridge Score  Ridge Score  Theil-Sen Score  \n",
       "0            0.484344     0.199650         2.468996  \n",
       "1            0.467022     0.218022         1.281292  \n",
       "2            0.464185     0.369479         0.989356  \n",
       "3            0.259930     0.163553         1.041286  \n",
       "4            0.243247     0.162328         2.026401  \n",
       "5            0.812543     0.260911         4.224298  \n",
       "6            0.752616     0.306047         2.361174  \n",
       "7            0.723886     0.266356         2.410329  \n",
       "8            0.699804     0.282086         1.985587  \n",
       "9            0.661110     0.184189         5.337367  "
      ]
     },
     "execution_count": 65,
     "metadata": {},
     "output_type": "execute_result"
    }
   ],
   "source": [
    "phys_max_top = phys_df.groupby(('Biomarker'))\\\n",
    "                      .agg({'Target marker': 'count', 'Kernel Ridge Score': 'mean', 'Theil-Sen Score': 'mean', 'Ridge Score': 'mean'})\\\n",
    "                      .sort_values(['Target marker', 'Kernel Ridge Score'], ascending=False)\\\n",
    "                      .head(10)\\\n",
    "                      [['Target marker', 'Kernel Ridge Score', 'Ridge Score', 'Theil-Sen Score']]\\\n",
    "                      .reset_index()\n",
    "phys_max_top"
   ]
  },
  {
   "cell_type": "code",
   "execution_count": 66,
   "metadata": {
    "collapsed": true
   },
   "outputs": [],
   "source": [
    "# Convert the dataframe to an XlsxWriter Excel object.\n",
    "phys_max_top.to_excel(writer, sheet_name='Overall Max')"
   ]
  },
  {
   "cell_type": "markdown",
   "metadata": {},
   "source": [
    "#### Combinatorial biomarkers sorted by the number of target markers they correlate with"
   ]
  },
  {
   "cell_type": "code",
   "execution_count": 67,
   "metadata": {
    "collapsed": false
   },
   "outputs": [
    {
     "data": {
      "text/html": [
       "<div>\n",
       "<table border=\"1\" class=\"dataframe\">\n",
       "  <thead>\n",
       "    <tr style=\"text-align: right;\">\n",
       "      <th></th>\n",
       "      <th>Biomarker</th>\n",
       "      <th>Theil-Sen Score</th>\n",
       "      <th>Ridge Score</th>\n",
       "      <th>Kernel Ridge Score</th>\n",
       "    </tr>\n",
       "    <tr>\n",
       "      <th>Type</th>\n",
       "      <th></th>\n",
       "      <th></th>\n",
       "      <th></th>\n",
       "      <th></th>\n",
       "    </tr>\n",
       "  </thead>\n",
       "  <tbody>\n",
       "    <tr>\n",
       "      <th>a*b/c/d</th>\n",
       "      <td>SYS Blood Pres 2*DIA Blood Pres 2/Contrac Tone...</td>\n",
       "      <td>9.272325</td>\n",
       "      <td>0.793042</td>\n",
       "      <td>0.958987</td>\n",
       "    </tr>\n",
       "    <tr>\n",
       "      <th>a*b/c</th>\n",
       "      <td>Relax Tone*Contrac Tone/Isometric Strength</td>\n",
       "      <td>1.364161</td>\n",
       "      <td>0.612786</td>\n",
       "      <td>0.947877</td>\n",
       "    </tr>\n",
       "    <tr>\n",
       "      <th>a/b/c</th>\n",
       "      <td>SYS Blood Pres 2/Max Amp EMG/Isometric Strength</td>\n",
       "      <td>8.197722</td>\n",
       "      <td>0.826668</td>\n",
       "      <td>0.909044</td>\n",
       "    </tr>\n",
       "    <tr>\n",
       "      <th>a/b</th>\n",
       "      <td>SYS Blood Pres 2/Max Amp EMG</td>\n",
       "      <td>1.383819</td>\n",
       "      <td>0.441696</td>\n",
       "      <td>0.908489</td>\n",
       "    </tr>\n",
       "    <tr>\n",
       "      <th>1/a</th>\n",
       "      <td>1/Max Amp EMG</td>\n",
       "      <td>1.164506</td>\n",
       "      <td>0.229497</td>\n",
       "      <td>0.334895</td>\n",
       "    </tr>\n",
       "    <tr>\n",
       "      <th>a</th>\n",
       "      <td>SYS Blood Pres 1</td>\n",
       "      <td>1.023531</td>\n",
       "      <td>0.064495</td>\n",
       "      <td>0.148289</td>\n",
       "    </tr>\n",
       "  </tbody>\n",
       "</table>\n",
       "</div>"
      ],
      "text/plain": [
       "                                                 Biomarker  Theil-Sen Score  \\\n",
       "Type                                                                          \n",
       "a*b/c/d  SYS Blood Pres 2*DIA Blood Pres 2/Contrac Tone...         9.272325   \n",
       "a*b/c           Relax Tone*Contrac Tone/Isometric Strength         1.364161   \n",
       "a/b/c      SYS Blood Pres 2/Max Amp EMG/Isometric Strength         8.197722   \n",
       "a/b                           SYS Blood Pres 2/Max Amp EMG         1.383819   \n",
       "1/a                                          1/Max Amp EMG         1.164506   \n",
       "a                                         SYS Blood Pres 1         1.023531   \n",
       "\n",
       "         Ridge Score  Kernel Ridge Score  \n",
       "Type                                      \n",
       "a*b/c/d     0.793042            0.958987  \n",
       "a*b/c       0.612786            0.947877  \n",
       "a/b/c       0.826668            0.909044  \n",
       "a/b         0.441696            0.908489  \n",
       "1/a         0.229497            0.334895  \n",
       "a           0.064495            0.148289  "
      ]
     },
     "execution_count": 67,
     "metadata": {},
     "output_type": "execute_result"
    }
   ],
   "source": [
    "phys_max_type = phys_df.groupby('Type')[['Biomarker', 'Theil-Sen Score', 'Ridge Score', 'Kernel Ridge Score']]\\\n",
    "                       .max().sort_values(by=['Kernel Ridge Score'], ascending=False)\n",
    "                         \n",
    "phys_max_type"
   ]
  },
  {
   "cell_type": "code",
   "execution_count": 68,
   "metadata": {
    "collapsed": true
   },
   "outputs": [],
   "source": [
    "# Convert the dataframe to an XlsxWriter Excel object.\n",
    "phys_max_type.to_excel(writer, sheet_name='Type Max')\n",
    "\n",
    "# Close the Pandas Excel writer and output the Excel file.\n",
    "writer.save()"
   ]
  }
 ],
 "metadata": {
  "kernelspec": {
   "display_name": "Python 3",
   "language": "python",
   "name": "python3"
  },
  "language_info": {
   "codemirror_mode": {
    "name": "ipython",
    "version": 3
   },
   "file_extension": ".py",
   "mimetype": "text/x-python",
   "name": "python",
   "nbconvert_exporter": "python",
   "pygments_lexer": "ipython3",
   "version": "3.5.2"
  }
 },
 "nbformat": 4,
 "nbformat_minor": 0
}
