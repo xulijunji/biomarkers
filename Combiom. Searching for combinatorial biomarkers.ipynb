{
 "cells": [
  {
   "cell_type": "markdown",
   "metadata": {},
   "source": [
    "# Combiom: searching for combinatorial biomarkers"
   ]
  },
  {
   "cell_type": "markdown",
   "metadata": {},
   "source": [
    "Algorithm to discover *combinatorial biomarkers* using linear and kernel ridge regression, Theil-Sen estimator, and machine learning."
   ]
  },
  {
   "cell_type": "markdown",
   "metadata": {},
   "source": [
    "## Importing packages"
   ]
  },
  {
   "cell_type": "code",
   "execution_count": 172,
   "metadata": {
    "collapsed": false
   },
   "outputs": [],
   "source": [
    "import itertools as it\n",
    "import sklearn.linear_model as sk_lm\n",
    "import sklearn.preprocessing as sk_pr\n",
    "import sklearn.kernel_ridge as sk_kr\n",
    "import multiprocessing as mp\n",
    "import pandas as pd\n",
    "import csv\n",
    "import numpy as np\n",
    "import re\n",
    "import string as st\n",
    "import numexpr as ne\n",
    "import datetime as dt"
   ]
  },
  {
   "cell_type": "markdown",
   "metadata": {},
   "source": [
    "## Combiom functions"
   ]
  },
  {
   "cell_type": "code",
   "execution_count": 164,
   "metadata": {
    "collapsed": false
   },
   "outputs": [],
   "source": [
    "def init_iterators(parameters):\n",
    "\n",
    "    iterators = {\n",
    "            'a': list(range(parameters)),\n",
    "            '1/a': list(range(parameters)),\n",
    "            'a/b': list(it.permutations(range(parameters), 2)),\n",
    "            'a/b/c': list(iter((x, y, z) for x, y, z in it.permutations(range(parameters), 3) if z > y)),\n",
    "            'a*b/c': list(it.combinations(range(parameters), 3)),\n",
    "            'a*b/c/d': list(iter((a, b, c, d) for a, b, c, d in it.permutations(range(parameters), 4) if b > a and d > c))\n",
    "    }\n",
    "    return iterators\n",
    "        \n",
    "    \n",
    "def search(marker_names, marker_data, target_num, target_data, target_names, iterators, iterator_type='all'):\n",
    "\n",
    "    results, temp = [], []\n",
    "    queue = iterators.keys() if iterator_type == 'all' else iterator_type\n",
    "        \n",
    "    Pool = mp.Pool(mp.cpu_count())\n",
    "\n",
    "    for it in queue:\n",
    "\n",
    "        r = Pool.apply_async(__iterate_combinations, args=(marker_names, marker_data,\n",
    "                                                           target_num, target_data, target_names,\n",
    "                                                           iterators, it))\n",
    "        temp.append(r)\n",
    "\n",
    "    for r in temp:\n",
    "        results.append(r.get())\n",
    "\n",
    "    Pool.close()\n",
    "    Pool.join()\n",
    "\n",
    "    print('Search was successfully finished')\n",
    "    return results\n",
    "\n",
    "\n",
    "def to_dataframe(data):\n",
    "        '''Data returned by .search() method'''\n",
    "\n",
    "        # Importing results and adding to a list\n",
    "        cols = ['Biomarker', 'Target marker',\n",
    "                'M1', 'M2', 'M3', 'M4',\n",
    "                'TS', 'R', 'KR', 'MID', 'TID', 'Type']\n",
    "        dfl = [pd.DataFrame(i, columns=cols) for i in data]\n",
    "\n",
    "        df = pd.concat(dfl)\n",
    "        df = df.rename(columns={'TS': 'Theil-Sen Score', 'R': 'Ridge Score', 'KR': 'Kernel Ridge Score',\n",
    "                                'M1': 'Marker 1', 'M2': 'Marker 2', 'M3': 'Marker 3', 'M4': 'Marker 4'})\n",
    "\n",
    "        return df\n",
    "\n",
    "\n",
    "def __iterate_combinations(marker_names, marker_data, target_num, target_data, target_names, iterators, iterator_type):\n",
    "\n",
    "        output = {'Biomarker': [], 'Target marker': [],\n",
    "                  'M1': [], 'M2': [], 'M3': [], 'M4': [],\n",
    "                  'TS': [], 'R': [], 'KR': [],\n",
    "                  'MID': [], 'TID': [], 'Type': []}\n",
    "\n",
    "        print('Search:', iterator_type, 'started')\n",
    "        \n",
    "        for a, t in it.product(iterators[iterator_type], range(target_num)):\n",
    "\n",
    "            list_ids = np.array([a]).ravel()\n",
    "            list_ops = list(re.sub(r\"\\w\", \"\", iterator_type))\n",
    "\n",
    "            # Naming a combinatorial marker\n",
    "            marker_name = __name(marker_names, iterator_type, list_ids)\n",
    "\n",
    "            # Naming simple markers and padding list with np.nan to make it 4-element\n",
    "            simple_markers_names = np.pad(marker_names[[list_ids]].astype('object'),\n",
    "                                          (0, 4-len(list_ids)), mode='constant', constant_values=(0, np.nan))\n",
    "            \n",
    "            # Calculating marker\n",
    "            marker_values = __calc_marker(marker_data, iterator_type, list_ids)\n",
    "\n",
    "            # Preprocessing data: transforming NaN values into neighbours-mean\n",
    "            # and normalizing data\n",
    "            if np.isnan(marker_values).any():\n",
    "                marker_values = __transform_nan(marker_values)\n",
    "            marker_values_norm = __normalize(marker_values)\n",
    "            marker_values_norm = marker_values_norm.reshape(-1, 1)\n",
    "\n",
    "            # Marker IDs joining into a string\n",
    "            mid = ', '.join(map(str, list_ids))\n",
    "\n",
    "            # Naming a target\n",
    "            target_name = target_names[t]\n",
    "            target_values = target_data[t].reshape(-1, 1)\n",
    "            tid = str(t)\n",
    "\n",
    "            # Regression\n",
    "            ts_score, ridge_score, kr_score = __regression(marker_values_norm, target_values)\n",
    "\n",
    "            # Processing results\n",
    "            if any(z > 0.8 for z in (np.around(ts_score, 1), np.around(ridge_score, 1), np.around(kr_score, 1))):\n",
    "\n",
    "                for n, v in zip(['Biomarker', 'Target marker',\n",
    "                                 'M1', 'M2',\n",
    "                                 'M3', 'M4',\n",
    "                                 'TS', 'R', 'KR', 'MID', 'TID', 'Type'],\n",
    "                                [marker_name, target_name,\n",
    "                                 simple_markers_names[0], simple_markers_names[1],\n",
    "                                 simple_markers_names[2], simple_markers_names[3],\n",
    "                                 ts_score, ridge_score, kr_score, mid, tid, iterator_type]):\n",
    "\n",
    "                    output[n].append(v)\n",
    "\n",
    "        print('Search:', iterator_type, 'finished')\n",
    "\n",
    "        return output\n",
    "\n",
    "\n",
    "def __regression(x, y, regressor_return=False):\n",
    "\n",
    "    # TheilSen Regression\n",
    "    ts_y = y.ravel()\n",
    "    ts = sk_lm.TheilSenRegressor()\n",
    "    ts.fit(x, ts_y)\n",
    "\n",
    "    # r squared\n",
    "    ts_y_pred = ts.predict(x)\n",
    "    ts_y_mean = np.mean(ts_y)\n",
    "    ts_ssr = np.sum((ts_y_pred - ts_y_mean) ** 2)\n",
    "    ts_sst = np.sum((ts_y - ts_y_mean) ** 2)\n",
    "    #ts_score = np.absolute(ts.score(index_norm, ts_y))\n",
    "    ts_score = ts_ssr / ts_sst\n",
    "\n",
    "    # Ridge Regression\n",
    "    # Normalizating & reshaping\n",
    "    ridge = sk_lm.Ridge(alpha=0.01, normalize=False)\n",
    "    ridge.fit(x, y)\n",
    "    ridge_score = np.absolute(ridge.score(x, y))\n",
    "\n",
    "    # Kernel Ridge Regression\n",
    "    kernel_ridge = sk_kr.KernelRidge(kernel='rbf', alpha=0.01)\n",
    "    kernel_ridge.fit(x, y)\n",
    "    kr_score = np.absolute(kernel_ridge.score(x, y))\n",
    "\n",
    "    if regressor_return:\n",
    "        return (ts, ridge, kernel_ridge)\n",
    "    else:\n",
    "        return (ts_score, ridge_score, kr_score)\n",
    "\n",
    "\n",
    "\n",
    "def __transform_nan(x, strategy='mean'):\n",
    "\n",
    "        imp = sk_pr.Imputer(missing_values='NaN', strategy=strategy)\n",
    "        x = imp.fit_transform(x.reshape(-1, 1))\n",
    "\n",
    "        return x\n",
    "\n",
    "\n",
    "def __normalize(x, sample=None):\n",
    "\n",
    "    if sample is None:\n",
    "        sample = x\n",
    "    return (x - np.mean(sample)) / np.std(sample)\n",
    "\n",
    "\n",
    "def __name(marker_names, marker_type, ids):\n",
    "\n",
    "    data = {}\n",
    "    for l, p in zip(st.ascii_letters[: ids.size], marker_names[ids]):\n",
    "        data[l] = p\n",
    "\n",
    "    rep = dict((re.escape(k), v) for k, v in data.items())\n",
    "    pattern = re.compile(\"|\".join(rep.keys()))\n",
    "    text = pattern.sub(lambda m: rep[re.escape(m.group(0))], marker_type)\n",
    "\n",
    "    return text\n",
    "\n",
    "\n",
    "def __calc_marker(marker_data, marker_type, ids):\n",
    "\n",
    "    data = {}\n",
    "\n",
    "    for l, p in zip(st.ascii_letters[: ids.size], marker_data[ids]):\n",
    "        data[l] = p\n",
    "\n",
    "    # Example: a*b/c (type), {a: ..., b: ..., c: ...} (data)\n",
    "    marker = ne.evaluate(marker_type, data)\n",
    "        \n",
    "    return marker\n",
    "\n",
    "\n",
    "def predict(marker_values, marker_data, markers_names, marker_names, marker_type, target_data, target_names, target_name):\n",
    "\n",
    "    marker_ids = np.array([np.where(markers_names == n)[0][0] for n in marker_names])\n",
    "\n",
    "    target_values = target_data[np.where(target_names == target_name)[0][0]].reshape(-1, 1)\n",
    "\n",
    "    d = {}\n",
    "    for i, (l, p) in enumerate(zip(st.ascii_letters[: len(marker_values)], marker_values)):\n",
    "        d[l] = p\n",
    "\n",
    "    marker_value = ne.evaluate(marker_type, d)\n",
    "\n",
    "    # Calculating marker\n",
    "    marker_train_values = __calc_marker(marker_data, marker_type, marker_ids)\n",
    "\n",
    "    # Preprocessing data: transforming NaN values into neighbours-mean\n",
    "    # and normalizing data \n",
    "    #marker_value = self.__transform_nan(marker_values)\n",
    "    marker_value_norm = __normalize(marker_value, marker_train_values)\n",
    "    marker_train_values_norm = __normalize(marker_train_values)\n",
    "    marker_train_values_norm = marker_train_values_norm.reshape(-1, 1)\n",
    "\n",
    "    # regression\n",
    "    ts, ridge, kernel_ridge = __regression(marker_train_values_norm, target_values, regressor_return=True)\n",
    "    return (10**ts.predict(marker_value_norm),\n",
    "            10**ridge.predict(marker_value_norm),\n",
    "            10**kernel_ridge.predict(marker_value_norm))\n",
    "\n",
    "\n",
    "def retrain(self, marker_names, marker_type, target_name):\n",
    "\n",
    "    marker_ids = []\n",
    "\n",
    "    for n in markers_names:\n",
    "        marker_ids.append(np.where(self.marker_names == n)[0][0])\n",
    "\n",
    "    target_data = self.target_data[np.where(self.target_names == target_name)[0][0]]\n",
    "\n",
    "    d = {}\n",
    "    for i, (l, p) in enumerate(zip(st.ascii_letters[: len(marker_ids)], self.marker_data[[marker_ids]])):\n",
    "        d[l] = p\n",
    "\n",
    "    x = ne.evaluate(marker_type, d)\n",
    "\n",
    "    # Calculating marker\n",
    "    marker_value = self.__calc_marker(marker_type, marker_ids)\n",
    "\n",
    "    # Preprocessing data: transforming NaN values into neighbours-mean\n",
    "    # and normalizing data \n",
    "    marker_value = self.__transform_nan(marker_value)\n",
    "    marker_value_norm = self.__normalize(marker_value)\n",
    "\n",
    "    # regression\n",
    "    ts, ridge, kernel_ridge = self.__regression(index_norm, targetdata, regressor_return=True)\n",
    "    return (ts, ridge, kernel_ridge)\n"
   ]
  },
  {
   "cell_type": "markdown",
   "metadata": {},
   "source": [
    "## 1 Biochemical Dataset\n",
    "### 1.1 Importing and preprocessing"
   ]
  },
  {
   "cell_type": "code",
   "execution_count": 91,
   "metadata": {
    "collapsed": false
   },
   "outputs": [
    {
     "data": {
      "text/plain": [
       "(10, 11, 8)"
      ]
     },
     "execution_count": 91,
     "metadata": {},
     "output_type": "execute_result"
    }
   ],
   "source": [
    "# Parameter names\n",
    "bio_csv_names = csv.reader(open('./BiochemData/parameters-names.csv'), delimiter=';')\n",
    "bio_marker_names = np.array(list(bio_csv_names)).flatten()\n",
    "\n",
    "# Setting shape of data array\n",
    "bio_volunteers = 10\n",
    "bio_parameters = 11\n",
    "bio_points = 8\n",
    "\n",
    "# Initializing data array with zeros\n",
    "bio_data = np.zeros(shape=(bio_volunteers, bio_parameters, bio_points))\n",
    "\n",
    "# Timepoints at which each biochemical parameter was measured (in hours after experiment)\n",
    "# Null stands for \"before experiment\", 1 - in an hour after experiment, so on...\n",
    "# bio_timepoints = np.array([0, 1, 1*24, 2*24, 3*24, 5*24, 7*24, 9*24])\n",
    "\n",
    "# Reading numeric data from csv-files. One file per participant\n",
    "# Each file has a shape of N x M\n",
    "#     where N is the number of parameters and M is the number of timepoints at which they were measured\n",
    "for i in np.arange(bio_volunteers):\n",
    "    bio_csv_file = csv.reader(open('./BiochemData/%d.csv' % i), delimiter=';')\n",
    "    bio_data[i, :, :] = np.array(list(bio_csv_file), np.float64)\n",
    "\n",
    "# Shape of data array\n",
    "np.shape(bio_data)"
   ]
  },
  {
   "cell_type": "markdown",
   "metadata": {},
   "source": [
    "### 1.2 Target markers"
   ]
  },
  {
   "cell_type": "code",
   "execution_count": 92,
   "metadata": {
    "collapsed": false
   },
   "outputs": [
    {
     "name": "stdout",
     "output_type": "stream",
     "text": [
      "Shape of marker_names (11,)\n",
      "Shape of marker_data (11, 10)\n"
     ]
    }
   ],
   "source": [
    "# Reading data for creatine kinase\n",
    "bio_csv_ck = csv.reader(open('./BiochemData/creatine-kinase.csv'), delimiter=';')\n",
    "bio_ckdata = np.array(list(bio_csv_ck), np.float64)\n",
    "\n",
    "# Reading data for aspartate transferase\n",
    "bio_csv_ast = csv.reader(open('./BiochemData/aspartate-transferase.csv'), delimiter=';')\n",
    "bio_astdata = np.array(list(bio_csv_ast), np.float64)\n",
    "\n",
    "# Reading data for myoglobin\n",
    "bio_csv_mg = csv.reader(open('./BiochemData/myoglobin.csv'), delimiter=';')\n",
    "bio_mgdata = np.array(list(bio_csv_mg), np.float64)\n",
    "bio_mgdata[bio_mgdata == 0] = np.nan\n",
    "\n",
    "imp = sk_pr.Imputer(missing_values='NaN', strategy='mean')\n",
    "bio_mgdata = imp.fit_transform(bio_mgdata)\n",
    "\n",
    "# Reading data for albumin\n",
    "bio_csv_alb = csv.reader(open('./BiochemData/albumin.csv'), delimiter=';')\n",
    "bio_albdata = np.array(list(bio_csv_alb), np.float64)\n",
    "bio_albdata[bio_albdata == 0] = np.nan\n",
    "\n",
    "# Processing creatinekinase and AST data\n",
    "# Making an array of maximum values and taking a LOG10 element-wisely\n",
    "bio_ckmax = np.log10([np.max(z) for z in bio_ckdata])\n",
    "bio_astmax = np.log10([np.max(z) for z in bio_astdata])\n",
    "bio_mgmax = np.log10([np.max(z) for z in bio_mgdata])\n",
    "\n",
    "bio_alb = np.log10(bio_albdata[np.arange(bio_albdata.shape[0]), [np.argmax(z) for z in bio_ckdata]])\n",
    "\n",
    "bio_ckmg = bio_ckmax / np.log10(bio_mgdata[np.arange(bio_mgdata.shape[0]), [np.argmax(z) for z in bio_ckdata]])\n",
    "bio_ckast = bio_ckmax / np.log10(bio_astdata[np.arange(bio_astdata.shape[0]), [np.argmax(z) for z in bio_ckdata]])\n",
    "bio_ckalb = bio_ckmax / bio_alb\n",
    "bio_mgalb = bio_mgmax / bio_alb\n",
    "\n",
    "# Target markers\n",
    "bio_target_names = np.array(['Creatinekinase', 'AST', 'Myoglobin',\n",
    "                             'Creatinekinase / AST', 'Creatinekinase / Myoglobin',\n",
    "                             'Creatinekinase / Albumin', 'Myoglobin / Albumin'])\n",
    "\n",
    "bio_target_data = np.vstack((bio_ckmax, bio_astmax, bio_mgmax, bio_ckmg, bio_ckast, bio_ckalb, bio_mgalb))\n",
    "\n",
    "# Making an array of 1-hour measures\n",
    "bio_marker_data = bio_data[:,:,1].T\n",
    "\n",
    "# Shapes of marker arrays\n",
    "print('Shape of marker_names', np.shape(bio_marker_names))\n",
    "print('Shape of marker_data', np.shape(bio_marker_data))"
   ]
  },
  {
   "cell_type": "code",
   "execution_count": 93,
   "metadata": {
    "collapsed": false
   },
   "outputs": [
    {
     "name": "stdout",
     "output_type": "stream",
     "text": [
      "Shape of target_names (7,)\n",
      "Shape of target_data (7, 10)\n"
     ]
    }
   ],
   "source": [
    "# Shapes of target arrays\n",
    "print('Shape of target_names', np.shape(bio_target_names))\n",
    "print('Shape of target_data', np.shape(bio_target_data))"
   ]
  },
  {
   "cell_type": "markdown",
   "metadata": {},
   "source": [
    "### 1.3 Searching"
   ]
  },
  {
   "cell_type": "code",
   "execution_count": 97,
   "metadata": {
    "collapsed": false
   },
   "outputs": [
    {
     "name": "stdout",
     "output_type": "stream",
     "text": [
      "Search: a*b/c started\n",
      "Search: a/b/c started\n"
     ]
    },
    {
     "name": "stderr",
     "output_type": "stream",
     "text": [
      "/home/maxim/.local/lib/python3.5/site-packages/sklearn/externals/joblib/parallel.py:540: UserWarning: Multiprocessing-backed parallel loops cannot be nested, setting n_jobs=1\n",
      "  **self._backend_args)\n",
      "/home/maxim/.local/lib/python3.5/site-packages/sklearn/externals/joblib/parallel.py:540: UserWarning: Multiprocessing-backed parallel loops cannot be nested, setting n_jobs=1\n",
      "  **self._backend_args)\n"
     ]
    },
    {
     "name": "stdout",
     "output_type": "stream",
     "text": [
      "Search: 1/a started\n",
      "Search: a*b/c/d started\n"
     ]
    },
    {
     "name": "stderr",
     "output_type": "stream",
     "text": [
      "/home/maxim/.local/lib/python3.5/site-packages/sklearn/externals/joblib/parallel.py:540: UserWarning: Multiprocessing-backed parallel loops cannot be nested, setting n_jobs=1\n",
      "  **self._backend_args)\n",
      "/home/maxim/.local/lib/python3.5/site-packages/sklearn/externals/joblib/parallel.py:540: UserWarning: Multiprocessing-backed parallel loops cannot be nested, setting n_jobs=1\n",
      "  **self._backend_args)\n"
     ]
    },
    {
     "name": "stdout",
     "output_type": "stream",
     "text": [
      "Search: 1/a finished\n",
      "Search: a started\n",
      "Search: a finished\n",
      "Search: a/b started\n",
      "Search: a/b finished\n",
      "Search: a*b/c finished\n",
      "Search: a/b/c finished\n",
      "Search: a*b/c/d finished\n",
      "Search was successfully finished\n"
     ]
    }
   ],
   "source": [
    "iterators = init_iterators(bio_parameters)\n",
    "\n",
    "bio_results = search(bio_marker_names, bio_marker_data, bio_target_names.size, bio_target_data, bio_target_names, iterators)"
   ]
  },
  {
   "cell_type": "markdown",
   "metadata": {},
   "source": [
    "### 1.4 Results. Exporting to Pandas and Pickle"
   ]
  },
  {
   "cell_type": "code",
   "execution_count": 98,
   "metadata": {
    "collapsed": false
   },
   "outputs": [],
   "source": [
    "# Creating DataFrame\n",
    "bio_df = to_dataframe(bio_results)\n",
    "\n",
    "# Export to Pickle file\n",
    "bio_df.to_pickle('./biochem_db.pickle')"
   ]
  },
  {
   "cell_type": "markdown",
   "metadata": {
    "collapsed": true
   },
   "source": [
    "### 1.5 Exporting to Excel"
   ]
  },
  {
   "cell_type": "markdown",
   "metadata": {},
   "source": [
    "#### Top combinatorial biochemical markers in each group"
   ]
  },
  {
   "cell_type": "code",
   "execution_count": 118,
   "metadata": {
    "collapsed": false
   },
   "outputs": [
    {
     "data": {
      "text/html": [
       "<div>\n",
       "<table border=\"1\" class=\"dataframe\">\n",
       "  <thead>\n",
       "    <tr style=\"text-align: right;\">\n",
       "      <th></th>\n",
       "      <th>Biomarker</th>\n",
       "      <th>Target marker</th>\n",
       "      <th>Theil-Sen Score</th>\n",
       "      <th>Ridge Score</th>\n",
       "      <th>Kernel Ridge Score</th>\n",
       "      <th>Type</th>\n",
       "    </tr>\n",
       "  </thead>\n",
       "  <tbody>\n",
       "    <tr>\n",
       "      <th>0</th>\n",
       "      <td>Urea*Glucose/Uric acid/MCFA</td>\n",
       "      <td>AST</td>\n",
       "      <td>0.847223</td>\n",
       "      <td>0.850640</td>\n",
       "      <td>0.990792</td>\n",
       "      <td>a*b/c/d</td>\n",
       "    </tr>\n",
       "    <tr>\n",
       "      <th>1</th>\n",
       "      <td>TAG*Phosphate/Urea/Uric acid</td>\n",
       "      <td>Creatinekinase</td>\n",
       "      <td>0.852970</td>\n",
       "      <td>0.281999</td>\n",
       "      <td>0.991675</td>\n",
       "      <td>a*b/c/d</td>\n",
       "    </tr>\n",
       "    <tr>\n",
       "      <th>2</th>\n",
       "      <td>TAG*Chloride/Urea/Bilirubin</td>\n",
       "      <td>Creatinekinase / AST</td>\n",
       "      <td>0.022768</td>\n",
       "      <td>0.012325</td>\n",
       "      <td>0.988465</td>\n",
       "      <td>a*b/c/d</td>\n",
       "    </tr>\n",
       "    <tr>\n",
       "      <th>3</th>\n",
       "      <td>TAG*Phosphate/Urea/Uric acid</td>\n",
       "      <td>Creatinekinase / Albumin</td>\n",
       "      <td>0.750298</td>\n",
       "      <td>0.275330</td>\n",
       "      <td>0.991216</td>\n",
       "      <td>a*b/c/d</td>\n",
       "    </tr>\n",
       "    <tr>\n",
       "      <th>4</th>\n",
       "      <td>TAG*MCFA/Chloride/Uric acid</td>\n",
       "      <td>Creatinekinase / Myoglobin</td>\n",
       "      <td>0.118217</td>\n",
       "      <td>0.149132</td>\n",
       "      <td>0.981006</td>\n",
       "      <td>a*b/c/d</td>\n",
       "    </tr>\n",
       "    <tr>\n",
       "      <th>5</th>\n",
       "      <td>Urea*Glucose/Uric acid/MCFA</td>\n",
       "      <td>Myoglobin</td>\n",
       "      <td>1.275538</td>\n",
       "      <td>0.400837</td>\n",
       "      <td>0.985968</td>\n",
       "      <td>a*b/c/d</td>\n",
       "    </tr>\n",
       "    <tr>\n",
       "      <th>6</th>\n",
       "      <td>Urea*Glucose/Uric acid/MCFA</td>\n",
       "      <td>Myoglobin / Albumin</td>\n",
       "      <td>1.125844</td>\n",
       "      <td>0.414401</td>\n",
       "      <td>0.988661</td>\n",
       "      <td>a*b/c/d</td>\n",
       "    </tr>\n",
       "  </tbody>\n",
       "</table>\n",
       "</div>"
      ],
      "text/plain": [
       "                      Biomarker               Target marker  Theil-Sen Score  \\\n",
       "0   Urea*Glucose/Uric acid/MCFA                         AST         0.847223   \n",
       "1  TAG*Phosphate/Urea/Uric acid              Creatinekinase         0.852970   \n",
       "2   TAG*Chloride/Urea/Bilirubin        Creatinekinase / AST         0.022768   \n",
       "3  TAG*Phosphate/Urea/Uric acid    Creatinekinase / Albumin         0.750298   \n",
       "4   TAG*MCFA/Chloride/Uric acid  Creatinekinase / Myoglobin         0.118217   \n",
       "5   Urea*Glucose/Uric acid/MCFA                   Myoglobin         1.275538   \n",
       "6   Urea*Glucose/Uric acid/MCFA         Myoglobin / Albumin         1.125844   \n",
       "\n",
       "   Ridge Score  Kernel Ridge Score     Type  \n",
       "0     0.850640            0.990792  a*b/c/d  \n",
       "1     0.281999            0.991675  a*b/c/d  \n",
       "2     0.012325            0.988465  a*b/c/d  \n",
       "3     0.275330            0.991216  a*b/c/d  \n",
       "4     0.149132            0.981006  a*b/c/d  \n",
       "5     0.400837            0.985968  a*b/c/d  \n",
       "6     0.414401            0.988661  a*b/c/d  "
      ]
     },
     "execution_count": 118,
     "metadata": {},
     "output_type": "execute_result"
    }
   ],
   "source": [
    "biochem_max_group = bio_df.loc[bio_df.groupby(['Target marker'])['Kernel Ridge Score'].idxmax()].reset_index(drop=True)\\\n",
    "                              [['Biomarker', 'Target marker', 'Theil-Sen Score', 'Ridge Score', 'Kernel Ridge Score', 'Type']]\n",
    "biochem_max_group"
   ]
  },
  {
   "cell_type": "code",
   "execution_count": 102,
   "metadata": {
    "collapsed": true
   },
   "outputs": [],
   "source": [
    "# Initialize Pandas Excel writer with XlsxWriter\n",
    "writer = pd.ExcelWriter('./combinatorial_biochemical_biomarkers.xlsx', engine='xlsxwriter')\n",
    "\n",
    "# Convert Dataframe to Excel object\n",
    "biochem_max_group.to_excel(writer, sheet_name='Target Max')"
   ]
  },
  {
   "cell_type": "markdown",
   "metadata": {},
   "source": [
    "#### Combinatorial biomarkers sorted by the number of target markers they correlate with."
   ]
  },
  {
   "cell_type": "code",
   "execution_count": 103,
   "metadata": {
    "collapsed": false
   },
   "outputs": [
    {
     "data": {
      "text/html": [
       "<div>\n",
       "<table border=\"1\" class=\"dataframe\">\n",
       "  <thead>\n",
       "    <tr style=\"text-align: right;\">\n",
       "      <th></th>\n",
       "      <th>Biomarker</th>\n",
       "      <th>Target marker</th>\n",
       "      <th>Kernel Ridge Score</th>\n",
       "      <th>Ridge Score</th>\n",
       "      <th>Theil-Sen Score</th>\n",
       "    </tr>\n",
       "  </thead>\n",
       "  <tbody>\n",
       "    <tr>\n",
       "      <th>0</th>\n",
       "      <td>1/MCFA</td>\n",
       "      <td>7</td>\n",
       "      <td>0.871264</td>\n",
       "      <td>0.307921</td>\n",
       "      <td>0.611971</td>\n",
       "    </tr>\n",
       "    <tr>\n",
       "      <th>1</th>\n",
       "      <td>TAG*Phosphate/Lactate/Uric acid</td>\n",
       "      <td>7</td>\n",
       "      <td>0.858034</td>\n",
       "      <td>0.424495</td>\n",
       "      <td>0.904730</td>\n",
       "    </tr>\n",
       "    <tr>\n",
       "      <th>2</th>\n",
       "      <td>Phosphate*Chloride/Lactate/Bilirubin</td>\n",
       "      <td>7</td>\n",
       "      <td>0.814122</td>\n",
       "      <td>0.275579</td>\n",
       "      <td>1.082766</td>\n",
       "    </tr>\n",
       "    <tr>\n",
       "      <th>3</th>\n",
       "      <td>Lactate*Bilirubin/Creatinine/Urea</td>\n",
       "      <td>7</td>\n",
       "      <td>0.756006</td>\n",
       "      <td>0.271455</td>\n",
       "      <td>1.609417</td>\n",
       "    </tr>\n",
       "    <tr>\n",
       "      <th>4</th>\n",
       "      <td>Urea*Chloride/Creatinine/Lactate</td>\n",
       "      <td>7</td>\n",
       "      <td>0.730320</td>\n",
       "      <td>0.324502</td>\n",
       "      <td>0.713174</td>\n",
       "    </tr>\n",
       "    <tr>\n",
       "      <th>5</th>\n",
       "      <td>Creatinine*Bilirubin/Lactate/MCFA</td>\n",
       "      <td>7</td>\n",
       "      <td>0.465168</td>\n",
       "      <td>0.126523</td>\n",
       "      <td>1.025088</td>\n",
       "    </tr>\n",
       "    <tr>\n",
       "      <th>6</th>\n",
       "      <td>Glucose*Uric acid/Cholesterol/MCFA</td>\n",
       "      <td>6</td>\n",
       "      <td>0.947046</td>\n",
       "      <td>0.169089</td>\n",
       "      <td>0.123946</td>\n",
       "    </tr>\n",
       "    <tr>\n",
       "      <th>7</th>\n",
       "      <td>Creatinine/Chloride/Glucose</td>\n",
       "      <td>6</td>\n",
       "      <td>0.936062</td>\n",
       "      <td>0.138021</td>\n",
       "      <td>0.944984</td>\n",
       "    </tr>\n",
       "    <tr>\n",
       "      <th>8</th>\n",
       "      <td>Cholesterol*Phosphate/Glucose</td>\n",
       "      <td>6</td>\n",
       "      <td>0.915915</td>\n",
       "      <td>0.237433</td>\n",
       "      <td>0.223080</td>\n",
       "    </tr>\n",
       "    <tr>\n",
       "      <th>9</th>\n",
       "      <td>Creatinine*Urea/Cholesterol/MCFA</td>\n",
       "      <td>6</td>\n",
       "      <td>0.900253</td>\n",
       "      <td>0.454116</td>\n",
       "      <td>0.912222</td>\n",
       "    </tr>\n",
       "  </tbody>\n",
       "</table>\n",
       "</div>"
      ],
      "text/plain": [
       "                              Biomarker  Target marker  Kernel Ridge Score  \\\n",
       "0                                1/MCFA              7            0.871264   \n",
       "1       TAG*Phosphate/Lactate/Uric acid              7            0.858034   \n",
       "2  Phosphate*Chloride/Lactate/Bilirubin              7            0.814122   \n",
       "3     Lactate*Bilirubin/Creatinine/Urea              7            0.756006   \n",
       "4      Urea*Chloride/Creatinine/Lactate              7            0.730320   \n",
       "5     Creatinine*Bilirubin/Lactate/MCFA              7            0.465168   \n",
       "6    Glucose*Uric acid/Cholesterol/MCFA              6            0.947046   \n",
       "7           Creatinine/Chloride/Glucose              6            0.936062   \n",
       "8         Cholesterol*Phosphate/Glucose              6            0.915915   \n",
       "9      Creatinine*Urea/Cholesterol/MCFA              6            0.900253   \n",
       "\n",
       "   Ridge Score  Theil-Sen Score  \n",
       "0     0.307921         0.611971  \n",
       "1     0.424495         0.904730  \n",
       "2     0.275579         1.082766  \n",
       "3     0.271455         1.609417  \n",
       "4     0.324502         0.713174  \n",
       "5     0.126523         1.025088  \n",
       "6     0.169089         0.123946  \n",
       "7     0.138021         0.944984  \n",
       "8     0.237433         0.223080  \n",
       "9     0.454116         0.912222  "
      ]
     },
     "execution_count": 103,
     "metadata": {},
     "output_type": "execute_result"
    }
   ],
   "source": [
    "biochem_max_top = bio_df.groupby(('Biomarker'))\\\n",
    "                        .agg({'Target marker': 'count', 'Kernel Ridge Score': 'mean', 'Theil-Sen Score': 'mean', 'Ridge Score': 'mean'})\\\n",
    "                        .sort_values(['Target marker', 'Kernel Ridge Score'], ascending=False)\\\n",
    "                        .head(10)\\\n",
    "                        [['Target marker', 'Kernel Ridge Score', 'Ridge Score', 'Theil-Sen Score']]\\\n",
    "                        .reset_index()\n",
    "biochem_max_top"
   ]
  },
  {
   "cell_type": "code",
   "execution_count": 104,
   "metadata": {
    "collapsed": true
   },
   "outputs": [],
   "source": [
    "# Convert the dataframe to an XlsxWriter Excel object.\n",
    "biochem_max_top.to_excel(writer, sheet_name='Overall Max')"
   ]
  },
  {
   "cell_type": "markdown",
   "metadata": {},
   "source": [
    "#### Combinatorial biomarkers sorted by the number of target markers they correlate with."
   ]
  },
  {
   "cell_type": "code",
   "execution_count": 110,
   "metadata": {
    "collapsed": false
   },
   "outputs": [
    {
     "data": {
      "text/html": [
       "<div>\n",
       "<table border=\"1\" class=\"dataframe\">\n",
       "  <thead>\n",
       "    <tr style=\"text-align: right;\">\n",
       "      <th></th>\n",
       "      <th>Biomarker</th>\n",
       "      <th>Theil-Sen Score</th>\n",
       "      <th>Ridge Score</th>\n",
       "      <th>Kernel Ridge Score</th>\n",
       "    </tr>\n",
       "    <tr>\n",
       "      <th>Type</th>\n",
       "      <th></th>\n",
       "      <th></th>\n",
       "      <th></th>\n",
       "      <th></th>\n",
       "    </tr>\n",
       "  </thead>\n",
       "  <tbody>\n",
       "    <tr>\n",
       "      <th>a*b/c/d</th>\n",
       "      <td>Uric acid*MCFA/Urea/TAG</td>\n",
       "      <td>8.752070</td>\n",
       "      <td>0.857783</td>\n",
       "      <td>0.991675</td>\n",
       "    </tr>\n",
       "    <tr>\n",
       "      <th>a/b/c</th>\n",
       "      <td>Uric acid/Urea/TAG</td>\n",
       "      <td>4.417148</td>\n",
       "      <td>0.839897</td>\n",
       "      <td>0.987554</td>\n",
       "    </tr>\n",
       "    <tr>\n",
       "      <th>a/b</th>\n",
       "      <td>Uric acid/TAG</td>\n",
       "      <td>2.851853</td>\n",
       "      <td>0.832250</td>\n",
       "      <td>0.983734</td>\n",
       "    </tr>\n",
       "    <tr>\n",
       "      <th>a*b/c</th>\n",
       "      <td>Urea*TAG/Uric acid</td>\n",
       "      <td>6.572136</td>\n",
       "      <td>0.795776</td>\n",
       "      <td>0.970988</td>\n",
       "    </tr>\n",
       "    <tr>\n",
       "      <th>1/a</th>\n",
       "      <td>1/Uric acid</td>\n",
       "      <td>2.115066</td>\n",
       "      <td>0.537865</td>\n",
       "      <td>0.967646</td>\n",
       "    </tr>\n",
       "    <tr>\n",
       "      <th>a</th>\n",
       "      <td>Uric acid</td>\n",
       "      <td>1.341052</td>\n",
       "      <td>0.547171</td>\n",
       "      <td>0.959395</td>\n",
       "    </tr>\n",
       "  </tbody>\n",
       "</table>\n",
       "</div>"
      ],
      "text/plain": [
       "                       Biomarker  Theil-Sen Score  Ridge Score  \\\n",
       "Type                                                             \n",
       "a*b/c/d  Uric acid*MCFA/Urea/TAG         8.752070     0.857783   \n",
       "a/b/c         Uric acid/Urea/TAG         4.417148     0.839897   \n",
       "a/b                Uric acid/TAG         2.851853     0.832250   \n",
       "a*b/c         Urea*TAG/Uric acid         6.572136     0.795776   \n",
       "1/a                  1/Uric acid         2.115066     0.537865   \n",
       "a                      Uric acid         1.341052     0.547171   \n",
       "\n",
       "         Kernel Ridge Score  \n",
       "Type                         \n",
       "a*b/c/d            0.991675  \n",
       "a/b/c              0.987554  \n",
       "a/b                0.983734  \n",
       "a*b/c              0.970988  \n",
       "1/a                0.967646  \n",
       "a                  0.959395  "
      ]
     },
     "execution_count": 110,
     "metadata": {},
     "output_type": "execute_result"
    }
   ],
   "source": [
    "biochem_max_type = bio_df.groupby('Type')[['Biomarker', 'Theil-Sen Score', 'Ridge Score', 'Kernel Ridge Score']]\\\n",
    "                          .max().sort_values(by=['Kernel Ridge Score'], ascending=False)\n",
    "                         \n",
    "biochem_max_type"
   ]
  },
  {
   "cell_type": "code",
   "execution_count": 111,
   "metadata": {
    "collapsed": true
   },
   "outputs": [],
   "source": [
    "# Convert the dataframe to an XlsxWriter Excel object.\n",
    "biochem_max_type.to_excel(writer, sheet_name='Type Max')\n",
    "\n",
    "# Close the Pandas Excel writer and output the Excel file.\n",
    "writer.save()"
   ]
  },
  {
   "cell_type": "markdown",
   "metadata": {},
   "source": [
    "### 1.6 Prediction"
   ]
  },
  {
   "cell_type": "code",
   "execution_count": 165,
   "metadata": {
    "collapsed": false
   },
   "outputs": [
    {
     "name": "stdout",
     "output_type": "stream",
     "text": [
      "[ 72.10447832] [[ 71.28966213]] [[ 124.96472383]]\n"
     ]
    }
   ],
   "source": [
    "# Prediction for Uric acid/Urea/TAG marker\n",
    "prediction_values = [0.51, 5.01, 1.01]\n",
    "ts, r, kr = predict(prediction_values, bio_marker_data, bio_marker_names,\n",
    "                    ['Uric acid', 'Urea', 'TAG'], 'a/b/c', bio_target_data, bio_target_names, 'AST')\n",
    "\n",
    "# Theil-Sen, Ridge, Kernel Ridge Prediction\n",
    "print(ts, r, kr)"
   ]
  },
  {
   "cell_type": "markdown",
   "metadata": {},
   "source": [
    "## 2 Physiological Dataset\n",
    "### 2.1 Importing and preprocessing"
   ]
  },
  {
   "cell_type": "code",
   "execution_count": 113,
   "metadata": {
    "collapsed": false
   },
   "outputs": [
    {
     "data": {
      "text/plain": [
       "(15, 10)"
      ]
     },
     "execution_count": 113,
     "metadata": {},
     "output_type": "execute_result"
    }
   ],
   "source": [
    "# Parameter names\n",
    "phys_csv_names = csv.reader(open('./PhysData/parameters-names.csv'), delimiter=';')\n",
    "phys_marker_names = np.array(list(phys_csv_names)).ravel()\n",
    "\n",
    "# Setting shape of data array\n",
    "phys_volunteers = 10\n",
    "phys_parameters = 15\n",
    "phys_points = 8\n",
    "\n",
    "# Initializing data array with zeros\n",
    "phys_data = np.zeros(shape=(phys_volunteers, phys_parameters, phys_points))\n",
    "\n",
    "# Timepoints at which each biochemical parameter was measured (in hours after experiment)\n",
    "# 0 stands for \"before experiment\", 0.05 - shortly after experiment, 1 - in an hour after experiment, so on...\n",
    "phys_timepoints = np.array([0, 0.05, 1, 1*24, 2*24, 3*24, 5*24, 7*24, 9*24])\n",
    "\n",
    "# Reading numeric data from csv-files\n",
    "# Each file has a shape of N x M\n",
    "#     where N is the number of parameters and M is the number of timepoints at which they were measured\n",
    "for i in np.arange(phys_volunteers):\n",
    "    phys_csv_file = csv.reader(open('./PhysData/%d.csv' % i), delimiter=';')\n",
    "    phys_data[i,:,:] = np.array(list(phys_csv_file), np.float64)\n",
    "\n",
    "# Mask zeros with NaN\n",
    "phys_data[phys_data == 0] = np.nan\n",
    "\n",
    "# Making an array of 1-hour measures\n",
    "phys_marker_data = phys_data[:,:,1].T\n",
    "\n",
    "# Shape\n",
    "np.shape(phys_marker_data)"
   ]
  },
  {
   "cell_type": "code",
   "execution_count": 200,
   "metadata": {
    "collapsed": false
   },
   "outputs": [
    {
     "data": {
      "text/plain": [
       "2150"
      ]
     },
     "execution_count": 200,
     "metadata": {},
     "output_type": "execute_result"
    }
   ],
   "source": [
    "# Observations number\n",
    "np.count_nonzero(bio_data) + np.count_nonzero(phys_data) + np.count_nonzero(bio_target_data)"
   ]
  },
  {
   "cell_type": "markdown",
   "metadata": {},
   "source": [
    "### <span style=\"color: red\">2.2 Search</span>"
   ]
  },
  {
   "cell_type": "code",
   "execution_count": 116,
   "metadata": {
    "collapsed": false
   },
   "outputs": [
    {
     "name": "stdout",
     "output_type": "stream",
     "text": [
      "Search: a*b/c started\n",
      "Search: a/b/c started\n"
     ]
    },
    {
     "name": "stderr",
     "output_type": "stream",
     "text": [
      "/home/maxim/.local/lib/python3.5/site-packages/sklearn/externals/joblib/parallel.py:540: UserWarning: Multiprocessing-backed parallel loops cannot be nested, setting n_jobs=1\n",
      "  **self._backend_args)\n",
      "/home/maxim/.local/lib/python3.5/site-packages/sklearn/externals/joblib/parallel.py:540: UserWarning: Multiprocessing-backed parallel loops cannot be nested, setting n_jobs=1\n",
      "  **self._backend_args)\n"
     ]
    },
    {
     "name": "stdout",
     "output_type": "stream",
     "text": [
      "Search: 1/a started\n",
      "Search: a*b/c/d started\n"
     ]
    },
    {
     "name": "stderr",
     "output_type": "stream",
     "text": [
      "/home/maxim/.local/lib/python3.5/site-packages/sklearn/externals/joblib/parallel.py:540: UserWarning: Multiprocessing-backed parallel loops cannot be nested, setting n_jobs=1\n",
      "  **self._backend_args)\n",
      "/home/maxim/.local/lib/python3.5/site-packages/sklearn/externals/joblib/parallel.py:540: UserWarning: Multiprocessing-backed parallel loops cannot be nested, setting n_jobs=1\n",
      "  **self._backend_args)\n"
     ]
    },
    {
     "name": "stdout",
     "output_type": "stream",
     "text": [
      "Search: 1/a finished\n",
      "Search: a started\n",
      "Search: a finished\n",
      "Search: a/b started\n",
      "Search: a/b finished\n",
      "Search: a*b/c finished\n",
      "Search: a/b/c finished\n",
      "Search: a*b/c/d finished\n",
      "Search was successfully finished\n"
     ]
    }
   ],
   "source": [
    "# Initialize with 15 parameters\n",
    "phys_iterators = init_iterators(phys_parameters)\n",
    "\n",
    "# Search for combinatorial biomarkers\n",
    "phys_results = search(phys_marker_names, phys_marker_data, bio_target_names.size, bio_target_data, bio_target_names, phys_iterators)"
   ]
  },
  {
   "cell_type": "markdown",
   "metadata": {},
   "source": [
    "### 2.3 Results. Export to DataFrame and Pickle"
   ]
  },
  {
   "cell_type": "code",
   "execution_count": 117,
   "metadata": {
    "collapsed": true
   },
   "outputs": [],
   "source": [
    "# Creating DataFrame\n",
    "phys_df = to_dataframe(phys_results)\n",
    "\n",
    "# Export to Pickle file\n",
    "phys_df.to_pickle('./phys_db.pickle')"
   ]
  },
  {
   "cell_type": "markdown",
   "metadata": {},
   "source": [
    "### 2.4 Exporting to Excel"
   ]
  },
  {
   "cell_type": "markdown",
   "metadata": {},
   "source": [
    "#### Top combinatorial physiological markers which correlate with each target marker"
   ]
  },
  {
   "cell_type": "code",
   "execution_count": 147,
   "metadata": {
    "collapsed": false
   },
   "outputs": [
    {
     "data": {
      "text/html": [
       "<div>\n",
       "<table border=\"1\" class=\"dataframe\">\n",
       "  <thead>\n",
       "    <tr style=\"text-align: right;\">\n",
       "      <th></th>\n",
       "      <th>Biomarker</th>\n",
       "      <th>Target marker</th>\n",
       "      <th>Theil-Sen Score</th>\n",
       "      <th>Ridge Score</th>\n",
       "      <th>Kernel Ridge Score</th>\n",
       "      <th>Type</th>\n",
       "    </tr>\n",
       "  </thead>\n",
       "  <tbody>\n",
       "    <tr>\n",
       "      <th>1525</th>\n",
       "      <td>EMG Freq*DIA Blood Pres 1/H-r Length/SYS Blood...</td>\n",
       "      <td>Creatinekinase / Albumin</td>\n",
       "      <td>0.990417</td>\n",
       "      <td>0.111359</td>\n",
       "      <td>0.953692</td>\n",
       "      <td>a*b/c/d</td>\n",
       "    </tr>\n",
       "    <tr>\n",
       "      <th>3694</th>\n",
       "      <td>R-Thigh Circ*Isometric Strength/Relax Tone/SYS...</td>\n",
       "      <td>Myoglobin</td>\n",
       "      <td>0.753208</td>\n",
       "      <td>0.440939</td>\n",
       "      <td>0.907135</td>\n",
       "      <td>a*b/c/d</td>\n",
       "    </tr>\n",
       "    <tr>\n",
       "      <th>4102</th>\n",
       "      <td>L-Thigh Circ*Contrac Tone/H-r Length/Isometric...</td>\n",
       "      <td>Myoglobin / Albumin</td>\n",
       "      <td>0.969902</td>\n",
       "      <td>0.191944</td>\n",
       "      <td>0.325659</td>\n",
       "      <td>a*b/c/d</td>\n",
       "    </tr>\n",
       "    <tr>\n",
       "      <th>3698</th>\n",
       "      <td>R-Thigh Circ*Isometric Strength/Contrac Tone/S...</td>\n",
       "      <td>AST</td>\n",
       "      <td>0.720020</td>\n",
       "      <td>0.422957</td>\n",
       "      <td>0.966523</td>\n",
       "      <td>a*b/c/d</td>\n",
       "    </tr>\n",
       "    <tr>\n",
       "      <th>4386</th>\n",
       "      <td>L-Thigh Circ*SYS Blood Pres 2/Max Amp EMG/SYS ...</td>\n",
       "      <td>Creatinekinase / Albumin</td>\n",
       "      <td>1.010077</td>\n",
       "      <td>0.270002</td>\n",
       "      <td>0.425639</td>\n",
       "      <td>a*b/c/d</td>\n",
       "    </tr>\n",
       "    <tr>\n",
       "      <th>1526</th>\n",
       "      <td>EMG Freq*DIA Blood Pres 1/H-r Length/SYS Blood...</td>\n",
       "      <td>Creatinekinase</td>\n",
       "      <td>0.650075</td>\n",
       "      <td>0.242771</td>\n",
       "      <td>0.921587</td>\n",
       "      <td>a*b/c/d</td>\n",
       "    </tr>\n",
       "    <tr>\n",
       "      <th>1528</th>\n",
       "      <td>EMG Freq*DIA Blood Pres 1/H-r Length/DIA Blood...</td>\n",
       "      <td>Creatinekinase</td>\n",
       "      <td>0.857120</td>\n",
       "      <td>0.032563</td>\n",
       "      <td>0.894136</td>\n",
       "      <td>a*b/c/d</td>\n",
       "    </tr>\n",
       "  </tbody>\n",
       "</table>\n",
       "</div>"
      ],
      "text/plain": [
       "                                              Biomarker  \\\n",
       "1525  EMG Freq*DIA Blood Pres 1/H-r Length/SYS Blood...   \n",
       "3694  R-Thigh Circ*Isometric Strength/Relax Tone/SYS...   \n",
       "4102  L-Thigh Circ*Contrac Tone/H-r Length/Isometric...   \n",
       "3698  R-Thigh Circ*Isometric Strength/Contrac Tone/S...   \n",
       "4386  L-Thigh Circ*SYS Blood Pres 2/Max Amp EMG/SYS ...   \n",
       "1526  EMG Freq*DIA Blood Pres 1/H-r Length/SYS Blood...   \n",
       "1528  EMG Freq*DIA Blood Pres 1/H-r Length/DIA Blood...   \n",
       "\n",
       "                 Target marker  Theil-Sen Score  Ridge Score  \\\n",
       "1525  Creatinekinase / Albumin         0.990417     0.111359   \n",
       "3694                 Myoglobin         0.753208     0.440939   \n",
       "4102       Myoglobin / Albumin         0.969902     0.191944   \n",
       "3698                       AST         0.720020     0.422957   \n",
       "4386  Creatinekinase / Albumin         1.010077     0.270002   \n",
       "1526            Creatinekinase         0.650075     0.242771   \n",
       "1528            Creatinekinase         0.857120     0.032563   \n",
       "\n",
       "      Kernel Ridge Score     Type  \n",
       "1525            0.953692  a*b/c/d  \n",
       "3694            0.907135  a*b/c/d  \n",
       "4102            0.325659  a*b/c/d  \n",
       "3698            0.966523  a*b/c/d  \n",
       "4386            0.425639  a*b/c/d  \n",
       "1526            0.921587  a*b/c/d  \n",
       "1528            0.894136  a*b/c/d  "
      ]
     },
     "execution_count": 147,
     "metadata": {},
     "output_type": "execute_result"
    }
   ],
   "source": [
    "phys_max_group = phys_df.loc[phys_df.reset_index(drop=True).groupby(['Target marker'])['Kernel Ridge Score'].idxmax()]\\\n",
    "                            [['Biomarker', 'Target marker', 'Theil-Sen Score', 'Ridge Score', 'Kernel Ridge Score', 'Type']]\n",
    "phys_max_group"
   ]
  },
  {
   "cell_type": "code",
   "execution_count": 148,
   "metadata": {
    "collapsed": true
   },
   "outputs": [],
   "source": [
    "# Initialize Pandas Excel writer with XlsxWriter\n",
    "writer = pd.ExcelWriter('./combinatorial_physiological_biomarkers.xlsx', engine='xlsxwriter')\n",
    "\n",
    "# Convert Dataframe to Excel object\n",
    "phys_max_group.to_excel(writer, sheet_name='Target Max')"
   ]
  },
  {
   "cell_type": "markdown",
   "metadata": {},
   "source": [
    "#### Combinatorial biomarkers sorted by the number of target markers they correlate with."
   ]
  },
  {
   "cell_type": "code",
   "execution_count": 149,
   "metadata": {
    "collapsed": false
   },
   "outputs": [
    {
     "data": {
      "text/html": [
       "<div>\n",
       "<table border=\"1\" class=\"dataframe\">\n",
       "  <thead>\n",
       "    <tr style=\"text-align: right;\">\n",
       "      <th></th>\n",
       "      <th>Biomarker</th>\n",
       "      <th>Target marker</th>\n",
       "      <th>Kernel Ridge Score</th>\n",
       "      <th>Ridge Score</th>\n",
       "      <th>Theil-Sen Score</th>\n",
       "    </tr>\n",
       "  </thead>\n",
       "  <tbody>\n",
       "    <tr>\n",
       "      <th>0</th>\n",
       "      <td>R-Thigh Circ*DIA Blood Pres 1/H-r Latency/H-r ...</td>\n",
       "      <td>7</td>\n",
       "      <td>0.945168</td>\n",
       "      <td>0.028579</td>\n",
       "      <td>0.164029</td>\n",
       "    </tr>\n",
       "    <tr>\n",
       "      <th>1</th>\n",
       "      <td>L-Thigh Circ*Isometric Strength/Contrac Tone/D...</td>\n",
       "      <td>7</td>\n",
       "      <td>0.924334</td>\n",
       "      <td>0.316239</td>\n",
       "      <td>0.553227</td>\n",
       "    </tr>\n",
       "    <tr>\n",
       "      <th>2</th>\n",
       "      <td>Relax Tone/Contrac Tone/DIA Blood Pres 1</td>\n",
       "      <td>7</td>\n",
       "      <td>0.918476</td>\n",
       "      <td>0.024037</td>\n",
       "      <td>0.314835</td>\n",
       "    </tr>\n",
       "    <tr>\n",
       "      <th>3</th>\n",
       "      <td>H-r Length*Contrac Tone/Relax Tone/SYS Blood P...</td>\n",
       "      <td>7</td>\n",
       "      <td>0.916335</td>\n",
       "      <td>0.036826</td>\n",
       "      <td>0.545868</td>\n",
       "    </tr>\n",
       "    <tr>\n",
       "      <th>4</th>\n",
       "      <td>H-r Latency*H-r Amplitude/H-r Length</td>\n",
       "      <td>7</td>\n",
       "      <td>0.914053</td>\n",
       "      <td>0.036425</td>\n",
       "      <td>0.695606</td>\n",
       "    </tr>\n",
       "    <tr>\n",
       "      <th>5</th>\n",
       "      <td>Relax Tone*SYS Blood Pres 1/H-r Length/Contrac...</td>\n",
       "      <td>7</td>\n",
       "      <td>0.909458</td>\n",
       "      <td>0.025194</td>\n",
       "      <td>0.720275</td>\n",
       "    </tr>\n",
       "    <tr>\n",
       "      <th>6</th>\n",
       "      <td>L-Thigh Circ*DIA Blood Pres 1/H-r Length/DIA B...</td>\n",
       "      <td>7</td>\n",
       "      <td>0.909076</td>\n",
       "      <td>0.025418</td>\n",
       "      <td>0.761615</td>\n",
       "    </tr>\n",
       "    <tr>\n",
       "      <th>7</th>\n",
       "      <td>R-Thigh Circ*DIA Blood Pres 2/L-Thigh Circ/Rel...</td>\n",
       "      <td>7</td>\n",
       "      <td>0.905975</td>\n",
       "      <td>0.076496</td>\n",
       "      <td>0.489226</td>\n",
       "    </tr>\n",
       "    <tr>\n",
       "      <th>8</th>\n",
       "      <td>H-r Latency*H-r Length/R-Thigh Circ/DIA Blood ...</td>\n",
       "      <td>7</td>\n",
       "      <td>0.903848</td>\n",
       "      <td>0.022907</td>\n",
       "      <td>0.159196</td>\n",
       "    </tr>\n",
       "    <tr>\n",
       "      <th>9</th>\n",
       "      <td>R-Thigh Circ/Mean Amp EMG/H-r Length</td>\n",
       "      <td>7</td>\n",
       "      <td>0.899948</td>\n",
       "      <td>0.052640</td>\n",
       "      <td>0.144435</td>\n",
       "    </tr>\n",
       "  </tbody>\n",
       "</table>\n",
       "</div>"
      ],
      "text/plain": [
       "                                           Biomarker  Target marker  \\\n",
       "0  R-Thigh Circ*DIA Blood Pres 1/H-r Latency/H-r ...              7   \n",
       "1  L-Thigh Circ*Isometric Strength/Contrac Tone/D...              7   \n",
       "2           Relax Tone/Contrac Tone/DIA Blood Pres 1              7   \n",
       "3  H-r Length*Contrac Tone/Relax Tone/SYS Blood P...              7   \n",
       "4               H-r Latency*H-r Amplitude/H-r Length              7   \n",
       "5  Relax Tone*SYS Blood Pres 1/H-r Length/Contrac...              7   \n",
       "6  L-Thigh Circ*DIA Blood Pres 1/H-r Length/DIA B...              7   \n",
       "7  R-Thigh Circ*DIA Blood Pres 2/L-Thigh Circ/Rel...              7   \n",
       "8  H-r Latency*H-r Length/R-Thigh Circ/DIA Blood ...              7   \n",
       "9               R-Thigh Circ/Mean Amp EMG/H-r Length              7   \n",
       "\n",
       "   Kernel Ridge Score  Ridge Score  Theil-Sen Score  \n",
       "0            0.945168     0.028579         0.164029  \n",
       "1            0.924334     0.316239         0.553227  \n",
       "2            0.918476     0.024037         0.314835  \n",
       "3            0.916335     0.036826         0.545868  \n",
       "4            0.914053     0.036425         0.695606  \n",
       "5            0.909458     0.025194         0.720275  \n",
       "6            0.909076     0.025418         0.761615  \n",
       "7            0.905975     0.076496         0.489226  \n",
       "8            0.903848     0.022907         0.159196  \n",
       "9            0.899948     0.052640         0.144435  "
      ]
     },
     "execution_count": 149,
     "metadata": {},
     "output_type": "execute_result"
    }
   ],
   "source": [
    "phys_max_top = phys_df.groupby(('Biomarker'))\\\n",
    "                      .agg({'Target marker': 'count', 'Kernel Ridge Score': 'mean', 'Theil-Sen Score': 'mean', 'Ridge Score': 'mean'})\\\n",
    "                      .sort_values(['Target marker', 'Kernel Ridge Score'], ascending=False)\\\n",
    "                      .head(10)\\\n",
    "                      [['Target marker', 'Kernel Ridge Score', 'Ridge Score', 'Theil-Sen Score']]\\\n",
    "                      .reset_index()\n",
    "phys_max_top"
   ]
  },
  {
   "cell_type": "code",
   "execution_count": 150,
   "metadata": {
    "collapsed": true
   },
   "outputs": [],
   "source": [
    "# Convert the dataframe to an XlsxWriter Excel object.\n",
    "phys_max_top.to_excel(writer, sheet_name='Overall Max')"
   ]
  },
  {
   "cell_type": "markdown",
   "metadata": {},
   "source": [
    "#### Combinatorial biomarkers sorted by the number of target markers they correlate with"
   ]
  },
  {
   "cell_type": "code",
   "execution_count": 151,
   "metadata": {
    "collapsed": false
   },
   "outputs": [
    {
     "data": {
      "text/html": [
       "<div>\n",
       "<table border=\"1\" class=\"dataframe\">\n",
       "  <thead>\n",
       "    <tr style=\"text-align: right;\">\n",
       "      <th></th>\n",
       "      <th>Biomarker</th>\n",
       "      <th>Theil-Sen Score</th>\n",
       "      <th>Ridge Score</th>\n",
       "      <th>Kernel Ridge Score</th>\n",
       "    </tr>\n",
       "    <tr>\n",
       "      <th>Type</th>\n",
       "      <th></th>\n",
       "      <th></th>\n",
       "      <th></th>\n",
       "      <th></th>\n",
       "    </tr>\n",
       "  </thead>\n",
       "  <tbody>\n",
       "    <tr>\n",
       "      <th>a*b/c/d</th>\n",
       "      <td>SYS Blood Pres 2*DIA Blood Pres 2/SYS Blood Pr...</td>\n",
       "      <td>9.520427</td>\n",
       "      <td>0.811550</td>\n",
       "      <td>0.997313</td>\n",
       "    </tr>\n",
       "    <tr>\n",
       "      <th>a/b/c</th>\n",
       "      <td>SYS Blood Pres 2/SYS Blood Pres 1/DIA Blood Pr...</td>\n",
       "      <td>8.533090</td>\n",
       "      <td>0.838760</td>\n",
       "      <td>0.990329</td>\n",
       "    </tr>\n",
       "    <tr>\n",
       "      <th>a*b/c</th>\n",
       "      <td>SYS Blood Pres 1*SYS Blood Pres 2/DIA Blood Pr...</td>\n",
       "      <td>2.162220</td>\n",
       "      <td>0.707595</td>\n",
       "      <td>0.985529</td>\n",
       "    </tr>\n",
       "    <tr>\n",
       "      <th>a/b</th>\n",
       "      <td>SYS Blood Pres 2/SYS Blood Pres 1</td>\n",
       "      <td>1.956988</td>\n",
       "      <td>0.586784</td>\n",
       "      <td>0.978674</td>\n",
       "    </tr>\n",
       "    <tr>\n",
       "      <th>1/a</th>\n",
       "      <td>1/SYS Blood Pres 1</td>\n",
       "      <td>1.393475</td>\n",
       "      <td>0.214263</td>\n",
       "      <td>0.888615</td>\n",
       "    </tr>\n",
       "    <tr>\n",
       "      <th>a</th>\n",
       "      <td>Isometric Strength</td>\n",
       "      <td>0.928265</td>\n",
       "      <td>0.486873</td>\n",
       "      <td>0.876781</td>\n",
       "    </tr>\n",
       "  </tbody>\n",
       "</table>\n",
       "</div>"
      ],
      "text/plain": [
       "                                                 Biomarker  Theil-Sen Score  \\\n",
       "Type                                                                          \n",
       "a*b/c/d  SYS Blood Pres 2*DIA Blood Pres 2/SYS Blood Pr...         9.520427   \n",
       "a/b/c    SYS Blood Pres 2/SYS Blood Pres 1/DIA Blood Pr...         8.533090   \n",
       "a*b/c    SYS Blood Pres 1*SYS Blood Pres 2/DIA Blood Pr...         2.162220   \n",
       "a/b                      SYS Blood Pres 2/SYS Blood Pres 1         1.956988   \n",
       "1/a                                     1/SYS Blood Pres 1         1.393475   \n",
       "a                                       Isometric Strength         0.928265   \n",
       "\n",
       "         Ridge Score  Kernel Ridge Score  \n",
       "Type                                      \n",
       "a*b/c/d     0.811550            0.997313  \n",
       "a/b/c       0.838760            0.990329  \n",
       "a*b/c       0.707595            0.985529  \n",
       "a/b         0.586784            0.978674  \n",
       "1/a         0.214263            0.888615  \n",
       "a           0.486873            0.876781  "
      ]
     },
     "execution_count": 151,
     "metadata": {},
     "output_type": "execute_result"
    }
   ],
   "source": [
    "phys_max_type = phys_df.groupby('Type')[['Biomarker', 'Theil-Sen Score', 'Ridge Score', 'Kernel Ridge Score']]\\\n",
    "                       .max().sort_values(by=['Kernel Ridge Score'], ascending=False)\n",
    "                         \n",
    "phys_max_type"
   ]
  },
  {
   "cell_type": "code",
   "execution_count": 152,
   "metadata": {
    "collapsed": true
   },
   "outputs": [],
   "source": [
    "# Convert the dataframe to an XlsxWriter Excel object.\n",
    "phys_max_type.to_excel(writer, sheet_name='Type Max')\n",
    "\n",
    "# Close the Pandas Excel writer and output the Excel file.\n",
    "writer.save()"
   ]
  }
 ],
 "metadata": {
  "kernelspec": {
   "display_name": "Python 3",
   "language": "python",
   "name": "python3"
  },
  "language_info": {
   "codemirror_mode": {
    "name": "ipython",
    "version": 3
   },
   "file_extension": ".py",
   "mimetype": "text/x-python",
   "name": "python",
   "nbconvert_exporter": "python",
   "pygments_lexer": "ipython3",
   "version": "3.5.2"
  }
 },
 "nbformat": 4,
 "nbformat_minor": 0
}
